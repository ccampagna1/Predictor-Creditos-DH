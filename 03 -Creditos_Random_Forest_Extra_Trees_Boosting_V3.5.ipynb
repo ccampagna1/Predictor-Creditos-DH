{
 "cells": [
  {
   "cell_type": "markdown",
   "metadata": {
    "colab_type": "text",
    "id": "7yO4fvwhyhvk"
   },
   "source": [
    "# Random Forest, ExtraTrees y Boosting en Scikit Learn\n",
    "\n",
    "## 1. Importamos la Matriz de Features y el Vector Objetivo\n",
    "\n"
   ]
  },
  {
   "cell_type": "code",
   "execution_count": 1,
   "metadata": {
    "colab": {},
    "colab_type": "code",
    "id": "jScdVG1wyhvm"
   },
   "outputs": [],
   "source": [
    "import pandas as pd\n",
    "import numpy as np\n",
    "from sklearn.model_selection import train_test_split\n",
    "from sklearn.preprocessing import StandardScaler"
   ]
  },
  {
   "cell_type": "code",
   "execution_count": 2,
   "metadata": {},
   "outputs": [
    {
     "name": "stdout",
     "output_type": "stream",
     "text": [
      "(4088, 470)\n",
      " \n",
      "0    0.795744\n",
      "1    0.204256\n",
      "Name: mora_hoy, dtype: float64\n"
     ]
    }
   ],
   "source": [
    "df_features = pd.read_csv('df_features.csv', sep = ';', low_memory=False, index_col = 0)\n",
    "# Ver por qué usan Low Memory = False\n",
    "\n",
    "print (df_features.shape)\n",
    "print (' ')\n",
    "\n",
    "# Verificamos desbalance de clases\n",
    "print(df_features.loc[:,'mora_hoy'].value_counts(normalize=True))\n",
    "\n",
    "# Asignamos la matriz de features y el vector objetivo\n",
    "X = df_features.drop(['mora_hoy'], axis=1)\n",
    "y = df_features['mora_hoy']\n",
    "\n",
    "# Hacemos el test-train split con 25% de los datos en test, utilizando stratify en base\n",
    "# al vector objetivo \"y\"\n",
    "\n",
    "X_train, X_test, y_train, y_test = train_test_split(X, y, test_size = .25,\n",
    "        random_state=12, stratify=y)"
   ]
  },
  {
   "cell_type": "markdown",
   "metadata": {
    "colab_type": "text",
    "id": "_NC7Ei-ryhv1"
   },
   "source": [
    "Para que los resultados sean consistentes hay que exponer los modelos exactamente al mismo esquema de validación cruzada."
   ]
  },
  {
   "cell_type": "code",
   "execution_count": 3,
   "metadata": {
    "colab": {},
    "colab_type": "code",
    "id": "j0pXpjNFyhv3"
   },
   "outputs": [],
   "source": [
    "from sklearn.model_selection import cross_val_score, StratifiedKFold\n",
    "cv = StratifiedKFold(n_splits=3, random_state=41, shuffle=True)"
   ]
  },
  {
   "cell_type": "markdown",
   "metadata": {
    "colab_type": "text",
    "id": "nxxMJeMYyhv5"
   },
   "source": [
    "## 2. Comparamos la performance de los árboles de decisión y ensambles de modelos\n",
    " \n",
    "Modelos Evaluados:\n",
    "- Árboles de decisión\n",
    "- Bagging sobre Árboles de decisión\n",
    "- Random Forest\n",
    "- Extra Trees\n",
    "- Adda Boost\n",
    "- Gradient Boosting\n",
    "- Cat Boost\n",
    "\n",
    "\n",
    "Para comparar los diferentes algoritmos armamos la siguiente función. Toma como input un estimador y un string con el nombre que le quieran poner, y ejecuta un `cross_val_score`"
   ]
  },
  {
   "cell_type": "code",
   "execution_count": 4,
   "metadata": {
    "colab": {},
    "colab_type": "code",
    "id": "V7Br9N3Jyhv6"
   },
   "outputs": [],
   "source": [
    "from sklearn.tree import DecisionTreeClassifier\n",
    "from sklearn.ensemble import RandomForestClassifier, ExtraTreesClassifier, BaggingClassifier\n",
    "from sklearn.ensemble import AdaBoostClassifier, GradientBoostingClassifier\n",
    "from catboost import CatBoostClassifier\n",
    "\n",
    "lista_rend = []\n",
    "def evaluar_rendimiento(modelo, nombre, X_train, y_train, cv):\n",
    "    s = cross_val_score(modelo, X_train, y_train, cv=cv, n_jobs=-1)\n",
    "    lista_rend.append({'modelo':modelo, 'nombre':nombre, \n",
    "        'exactitud': s.mean().round(3), 'std': s.std().round(3)})\n",
    "    print(\"Rendimiento de {}:\\t{:0.3} ± {:0.3}\".format( \\\n",
    "        nombre, s.mean().round(3), s.std().round(3)))"
   ]
  },
  {
   "cell_type": "code",
   "execution_count": 5,
   "metadata": {
    "colab": {},
    "colab_type": "code",
    "id": "myVgGdMZyhv8"
   },
   "outputs": [
    {
     "name": "stdout",
     "output_type": "stream",
     "text": [
      "Rendimiento de Árbol de decisión:\t0.748 ± 0.003\n",
      "Rendimiento de Bagging AD:\t0.807 ± 0.003\n",
      "Rendimiento de Random Forest:\t0.804 ± 0.003\n",
      "Rendimiento de Extra Trees:\t0.803 ± 0.012\n",
      "Rendimiento de AdaBoostClassifier:\t0.812 ± 0.01\n",
      "Rendimiento de GradientBoostingClassifier:\t0.807 ± 0.005\n",
      "Rendimiento de CatBoostClassifier:\t0.809 ± 0.007\n"
     ]
    }
   ],
   "source": [
    "dt = DecisionTreeClassifier(class_weight='balanced', random_state=1)\n",
    "bdt = BaggingClassifier(dt, random_state=1)\n",
    "rf = RandomForestClassifier(class_weight='balanced', random_state=1)\n",
    "et = ExtraTreesClassifier(class_weight='balanced', random_state=1)\n",
    "ab = AdaBoostClassifier(base_estimator=DecisionTreeClassifier(max_depth=1, random_state=1), n_estimators=100)\n",
    "gb = GradientBoostingClassifier()\n",
    "cb = CatBoostClassifier()\n",
    "\n",
    "evaluar_rendimiento(dt,  \"Árbol de decisión\", X_train, y_train, cv)\n",
    "evaluar_rendimiento(bdt, \"Bagging AD\", X_train, y_train, cv)\n",
    "evaluar_rendimiento(rf,  \"Random Forest\", X_train, y_train, cv)\n",
    "evaluar_rendimiento(et,  \"Extra Trees\", X_train, y_train, cv)\n",
    "evaluar_rendimiento(ab, \"AdaBoostClassifier\",  X_train, y_train, cv)\n",
    "evaluar_rendimiento(gb, \"GradientBoostingClassifier\", X_train, y_train, cv)\n",
    "evaluar_rendimiento(cb, \"CatBoostClassifier\", X_train, y_train, cv)"
   ]
  },
  {
   "cell_type": "markdown",
   "metadata": {
    "colab_type": "text",
    "id": "6Xf3I9qkyhv_"
   },
   "source": [
    "## 3. Optimizamos los hiperparámetros de RandomForest, AdaBoost,  Gradient Boosting y CatBoost"
   ]
  },
  {
   "cell_type": "markdown",
   "metadata": {},
   "source": [
    "### `Random Forest`"
   ]
  },
  {
   "cell_type": "code",
   "execution_count": 6,
   "metadata": {
    "colab": {},
    "colab_type": "code",
    "id": "EQTH_EynyhwA"
   },
   "outputs": [],
   "source": [
    "from sklearn.model_selection import GridSearchCV, RandomizedSearchCV\n",
    "#param_trees = {'n_estimators': [50, 100, 200], \n",
    " #              'max_features': [1, 5, 8, 10, 21], \n",
    "  #             'max_depth': [5, 20, 50, 70, 100], \n",
    "   #            'min_samples_leaf':[1, 5, 8, 10, 50]}\n",
    "param_trees = {'n_estimators': [100, 200, 300, 400], \n",
    "               'max_features': [35, 43, 51, 59, 67, 93, 175], \n",
    "               'max_depth': [50, 70, 100, 120], \n",
    "               'min_samples_leaf':[1, 3, 5]} #siempre dio 1 como mejor min_sample_leaf, bajamos los casos a 3"
   ]
  },
  {
   "cell_type": "code",
   "execution_count": 7,
   "metadata": {
    "colab": {},
    "colab_type": "code",
    "id": "FDHh1p0KyhwH"
   },
   "outputs": [],
   "source": [
    "grid_search_rf = GridSearchCV(rf, param_grid=param_trees, cv=cv, verbose=1, n_jobs=-1)"
   ]
  },
  {
   "cell_type": "code",
   "execution_count": 8,
   "metadata": {
    "colab": {},
    "colab_type": "code",
    "id": "6EwcgKH1yhwI"
   },
   "outputs": [
    {
     "name": "stdout",
     "output_type": "stream",
     "text": [
      "Fitting 3 folds for each of 336 candidates, totalling 1008 fits\n"
     ]
    },
    {
     "name": "stderr",
     "output_type": "stream",
     "text": [
      "[Parallel(n_jobs=-1)]: Using backend LokyBackend with 4 concurrent workers.\n",
      "[Parallel(n_jobs=-1)]: Done  42 tasks      | elapsed:   32.0s\n",
      "[Parallel(n_jobs=-1)]: Done 192 tasks      | elapsed:  3.0min\n",
      "[Parallel(n_jobs=-1)]: Done 442 tasks      | elapsed:  7.6min\n",
      "[Parallel(n_jobs=-1)]: Done 792 tasks      | elapsed: 14.3min\n",
      "[Parallel(n_jobs=-1)]: Done 1008 out of 1008 | elapsed: 18.3min finished\n"
     ]
    },
    {
     "data": {
      "text/plain": [
       "GridSearchCV(cv=StratifiedKFold(n_splits=3, random_state=41, shuffle=True),\n",
       "       error_score='raise-deprecating',\n",
       "       estimator=RandomForestClassifier(bootstrap=True, class_weight='balanced',\n",
       "            criterion='gini', max_depth=None, max_features='auto',\n",
       "            max_leaf_nodes=None, min_impurity_decrease=0.0,\n",
       "            min_impurity_split=None, min_samples_leaf=1,\n",
       "            min_samples_split=2, min_weight_fraction_leaf=0.0,\n",
       "            n_estimators='warn', n_jobs=None, oob_score=False,\n",
       "            random_state=1, verbose=0, warm_start=False),\n",
       "       fit_params=None, iid='warn', n_jobs=-1,\n",
       "       param_grid={'n_estimators': [100, 200, 300, 400], 'max_features': [35, 43, 51, 59, 67, 93, 175], 'max_depth': [50, 70, 100, 120], 'min_samples_leaf': [1, 3, 5]},\n",
       "       pre_dispatch='2*n_jobs', refit=True, return_train_score='warn',\n",
       "       scoring=None, verbose=1)"
      ]
     },
     "execution_count": 8,
     "metadata": {},
     "output_type": "execute_result"
    }
   ],
   "source": [
    "grid_search_rf.fit(X_train, y_train)"
   ]
  },
  {
   "cell_type": "code",
   "execution_count": 9,
   "metadata": {
    "colab": {},
    "colab_type": "code",
    "id": "ObRVsWZVyhwL"
   },
   "outputs": [
    {
     "data": {
      "text/plain": [
       "RandomForestClassifier(bootstrap=True, class_weight='balanced',\n",
       "            criterion='gini', max_depth=50, max_features=59,\n",
       "            max_leaf_nodes=None, min_impurity_decrease=0.0,\n",
       "            min_impurity_split=None, min_samples_leaf=1,\n",
       "            min_samples_split=2, min_weight_fraction_leaf=0.0,\n",
       "            n_estimators=200, n_jobs=None, oob_score=False, random_state=1,\n",
       "            verbose=0, warm_start=False)"
      ]
     },
     "execution_count": 9,
     "metadata": {},
     "output_type": "execute_result"
    }
   ],
   "source": [
    "grid_search_rf.best_estimator_"
   ]
  },
  {
   "cell_type": "code",
   "execution_count": 10,
   "metadata": {},
   "outputs": [
    {
     "name": "stdout",
     "output_type": "stream",
     "text": [
      "Rendimiento de Random Forest GS:\t0.815 ± 0.012\n"
     ]
    }
   ],
   "source": [
    "evaluar_rendimiento(grid_search_rf.best_estimator_,  \"Random Forest GS\", X_train, y_train, cv)"
   ]
  },
  {
   "cell_type": "markdown",
   "metadata": {},
   "source": [
    "### `AdaBoostClassifier()`"
   ]
  },
  {
   "cell_type": "code",
   "execution_count": 11,
   "metadata": {},
   "outputs": [],
   "source": [
    "#params_ab = {\"n_estimators\": [100, 500],\n",
    " #         \"learning_rate\":[0.01, 0.1, 1.0],\n",
    "  #      \"base_estimator__max_depth\": [1, 2, 3]}\n",
    "\n",
    "#grid_ab = GridSearchCV(AdaBoostClassifier(base_estimator=DecisionTreeClassifier()), \n",
    " #                      param_grid=params_ab, cv=cv, verbose=1, n_jobs=-1)\n",
    "\n",
    "params_ab = {\"n_estimators\": [100, 300, 500, 800],\n",
    "          \"learning_rate\":[0.01, 0.05, 0.08, 0.1, 0.17, 0.30, 0.5, 0.8],\n",
    "        \"base_estimator__max_depth\": [2, 3, 4, 5]}\n",
    "\n",
    "rand_ab = RandomizedSearchCV(AdaBoostClassifier(base_estimator=DecisionTreeClassifier()), \n",
    "             param_distributions=params_ab, cv=cv, n_iter = 70, verbose=1, n_jobs=-1)\n",
    "\n"
   ]
  },
  {
   "cell_type": "code",
   "execution_count": 12,
   "metadata": {},
   "outputs": [
    {
     "name": "stdout",
     "output_type": "stream",
     "text": [
      "Fitting 3 folds for each of 70 candidates, totalling 210 fits\n"
     ]
    },
    {
     "name": "stderr",
     "output_type": "stream",
     "text": [
      "[Parallel(n_jobs=-1)]: Using backend LokyBackend with 4 concurrent workers.\n",
      "[Parallel(n_jobs=-1)]: Done  42 tasks      | elapsed:  2.5min\n",
      "[Parallel(n_jobs=-1)]: Done 192 tasks      | elapsed: 13.3min\n",
      "[Parallel(n_jobs=-1)]: Done 210 out of 210 | elapsed: 14.2min finished\n"
     ]
    },
    {
     "data": {
      "text/plain": [
       "RandomizedSearchCV(cv=StratifiedKFold(n_splits=3, random_state=41, shuffle=True),\n",
       "          error_score='raise-deprecating',\n",
       "          estimator=AdaBoostClassifier(algorithm='SAMME.R',\n",
       "          base_estimator=DecisionTreeClassifier(class_weight=None, criterion='gini', max_depth=None,\n",
       "            max_features=None, max_leaf_nodes=None,\n",
       "            min_impurity_decrease=0.0, min_impurity_split=None,\n",
       "            min_samples_leaf=1, min_samples_split=2,\n",
       "            min_weight_fraction_leaf=0.0, presort=False, random_state=None,\n",
       "            splitter='best'),\n",
       "          learning_rate=1.0, n_estimators=50, random_state=None),\n",
       "          fit_params=None, iid='warn', n_iter=70, n_jobs=-1,\n",
       "          param_distributions={'n_estimators': [100, 300, 500, 800], 'learning_rate': [0.01, 0.05, 0.08, 0.1, 0.17, 0.3, 0.5, 0.8], 'base_estimator__max_depth': [2, 3, 4, 5]},\n",
       "          pre_dispatch='2*n_jobs', random_state=None, refit=True,\n",
       "          return_train_score='warn', scoring=None, verbose=1)"
      ]
     },
     "execution_count": 12,
     "metadata": {},
     "output_type": "execute_result"
    }
   ],
   "source": [
    "#grid_ab.fit(X_train, y_train)\n",
    "rand_ab.fit(X_train, y_train)"
   ]
  },
  {
   "cell_type": "code",
   "execution_count": 13,
   "metadata": {},
   "outputs": [
    {
     "data": {
      "text/plain": [
       "AdaBoostClassifier(algorithm='SAMME.R',\n",
       "          base_estimator=DecisionTreeClassifier(class_weight=None, criterion='gini', max_depth=2,\n",
       "            max_features=None, max_leaf_nodes=None,\n",
       "            min_impurity_decrease=0.0, min_impurity_split=None,\n",
       "            min_samples_leaf=1, min_samples_split=2,\n",
       "            min_weight_fraction_leaf=0.0, presort=False, random_state=None,\n",
       "            splitter='best'),\n",
       "          learning_rate=0.3, n_estimators=100, random_state=None)"
      ]
     },
     "execution_count": 13,
     "metadata": {},
     "output_type": "execute_result"
    }
   ],
   "source": [
    "#grid_ab.best_estimator_\n",
    "rand_ab.best_estimator_"
   ]
  },
  {
   "cell_type": "code",
   "execution_count": 14,
   "metadata": {},
   "outputs": [
    {
     "name": "stdout",
     "output_type": "stream",
     "text": [
      "Rendimiento de AdaBoostClassifier + RS:\t0.824 ± 0.008\n"
     ]
    }
   ],
   "source": [
    "#evaluar_rendimiento(grid_ab.best_estimator_,  \"AdaBoostClassifier + GS\", X_train, y_train, cv)\n",
    "evaluar_rendimiento(rand_ab.best_estimator_,  \"AdaBoostClassifier + RS\", \\\n",
    "                                                             X_train, y_train, cv)\n"
   ]
  },
  {
   "cell_type": "markdown",
   "metadata": {},
   "source": [
    "### `GradientBoostingClassifier()`"
   ]
  },
  {
   "cell_type": "code",
   "execution_count": 15,
   "metadata": {},
   "outputs": [],
   "source": [
    "#params_gb = {'n_estimators':[100, 500] , \n",
    " #            'learning_rate':[0.001, 0.001, 0.1, 1.0],\n",
    "  #          'max_depth' : [1, 2, 3, 4]}\n",
    "\n",
    "params_gb = {'n_estimators':[600, 800, 1000] , \n",
    "             'learning_rate':[0.01, 0.05, 0.1, 0.5, 1.0],\n",
    "            'max_depth' : [4, 6, 8]}\n",
    "\n",
    "grid_gb = GridSearchCV(gb, param_grid=params_gb, cv=cv, verbose=1, n_jobs=-1)"
   ]
  },
  {
   "cell_type": "code",
   "execution_count": 16,
   "metadata": {},
   "outputs": [
    {
     "name": "stdout",
     "output_type": "stream",
     "text": [
      "Fitting 3 folds for each of 45 candidates, totalling 135 fits\n"
     ]
    },
    {
     "name": "stderr",
     "output_type": "stream",
     "text": [
      "[Parallel(n_jobs=-1)]: Using backend LokyBackend with 4 concurrent workers.\n",
      "[Parallel(n_jobs=-1)]: Done  42 tasks      | elapsed:  8.8min\n",
      "[Parallel(n_jobs=-1)]: Done 135 out of 135 | elapsed: 21.5min finished\n"
     ]
    },
    {
     "data": {
      "text/plain": [
       "GridSearchCV(cv=StratifiedKFold(n_splits=3, random_state=41, shuffle=True),\n",
       "       error_score='raise-deprecating',\n",
       "       estimator=GradientBoostingClassifier(criterion='friedman_mse', init=None,\n",
       "              learning_rate=0.1, loss='deviance', max_depth=3,\n",
       "              max_features=None, max_leaf_nodes=None,\n",
       "              min_impurity_decrease=0.0, min_impurity_split=None,\n",
       "              min_samples_leaf=1, min_sampl...      subsample=1.0, tol=0.0001, validation_fraction=0.1,\n",
       "              verbose=0, warm_start=False),\n",
       "       fit_params=None, iid='warn', n_jobs=-1,\n",
       "       param_grid={'n_estimators': [600, 800, 1000], 'learning_rate': [0.01, 0.05, 0.1, 0.5, 1.0], 'max_depth': [4, 6, 8]},\n",
       "       pre_dispatch='2*n_jobs', refit=True, return_train_score='warn',\n",
       "       scoring=None, verbose=1)"
      ]
     },
     "execution_count": 16,
     "metadata": {},
     "output_type": "execute_result"
    }
   ],
   "source": [
    "grid_gb.fit(X_train, y_train)"
   ]
  },
  {
   "cell_type": "code",
   "execution_count": 17,
   "metadata": {},
   "outputs": [
    {
     "data": {
      "text/plain": [
       "GradientBoostingClassifier(criterion='friedman_mse', init=None,\n",
       "              learning_rate=0.05, loss='deviance', max_depth=6,\n",
       "              max_features=None, max_leaf_nodes=None,\n",
       "              min_impurity_decrease=0.0, min_impurity_split=None,\n",
       "              min_samples_leaf=1, min_samples_split=2,\n",
       "              min_weight_fraction_leaf=0.0, n_estimators=1000,\n",
       "              n_iter_no_change=None, presort='auto', random_state=None,\n",
       "              subsample=1.0, tol=0.0001, validation_fraction=0.1,\n",
       "              verbose=0, warm_start=False)"
      ]
     },
     "execution_count": 17,
     "metadata": {},
     "output_type": "execute_result"
    }
   ],
   "source": [
    "grid_gb.best_estimator_"
   ]
  },
  {
   "cell_type": "code",
   "execution_count": 18,
   "metadata": {},
   "outputs": [
    {
     "name": "stdout",
     "output_type": "stream",
     "text": [
      "Rendimiento de GradientBoostingClassifier + GS:\t0.815 ± 0.008\n"
     ]
    }
   ],
   "source": [
    "evaluar_rendimiento(grid_gb.best_estimator_, \"GradientBoostingClassifier + GS\", X_train, y_train, cv)"
   ]
  },
  {
   "cell_type": "markdown",
   "metadata": {},
   "source": [
    "### `CatBoostClassifier()`"
   ]
  },
  {
   "cell_type": "code",
   "execution_count": 19,
   "metadata": {},
   "outputs": [],
   "source": [
    "params_cb = {\"n_estimators\": [100, 200, 300, 400, 500],\n",
    "             \"learning_rate\":[0.01, 0.05, 0.08, 0.1, 0.13, 0.17, 0.30, 0.6, 0.8, 1.0],\n",
    "             \"max_depth\": [1, 2, 3, 4, 5]}\n",
    "\n",
    "rand_cb = RandomizedSearchCV(cb, param_distributions=params_cb, n_iter = 70, \\\n",
    "                                                        verbose= True, n_jobs=-1, cv=cv)\n",
    "\n",
    "#grid_cb = GridSearchCV(cb, param_grid=params_gb, cv=cv, verbose=1, n_jobs=-1)"
   ]
  },
  {
   "cell_type": "code",
   "execution_count": 20,
   "metadata": {},
   "outputs": [
    {
     "name": "stdout",
     "output_type": "stream",
     "text": [
      "Fitting 3 folds for each of 70 candidates, totalling 210 fits\n"
     ]
    },
    {
     "name": "stderr",
     "output_type": "stream",
     "text": [
      "[Parallel(n_jobs=-1)]: Using backend LokyBackend with 4 concurrent workers.\n",
      "[Parallel(n_jobs=-1)]: Done  42 tasks      | elapsed: 14.8min\n",
      "[Parallel(n_jobs=-1)]: Done 192 tasks      | elapsed: 59.9min\n",
      "[Parallel(n_jobs=-1)]: Done 210 out of 210 | elapsed: 66.9min finished\n"
     ]
    },
    {
     "name": "stdout",
     "output_type": "stream",
     "text": [
      "0:\tlearn: 0.6550638\ttotal: 108ms\tremaining: 54s\n",
      "1:\tlearn: 0.6172741\ttotal: 140ms\tremaining: 34.9s\n",
      "2:\tlearn: 0.5931924\ttotal: 171ms\tremaining: 28.4s\n",
      "3:\tlearn: 0.5701786\ttotal: 211ms\tremaining: 26.2s\n",
      "4:\tlearn: 0.5500003\ttotal: 242ms\tremaining: 23.9s\n",
      "5:\tlearn: 0.5361551\ttotal: 275ms\tremaining: 22.7s\n",
      "6:\tlearn: 0.5227472\ttotal: 310ms\tremaining: 21.9s\n",
      "7:\tlearn: 0.5116456\ttotal: 404ms\tremaining: 24.8s\n",
      "8:\tlearn: 0.5029847\ttotal: 435ms\tremaining: 23.7s\n",
      "9:\tlearn: 0.4964225\ttotal: 468ms\tremaining: 22.9s\n",
      "10:\tlearn: 0.4912257\ttotal: 499ms\tremaining: 22.2s\n",
      "11:\tlearn: 0.4850005\ttotal: 566ms\tremaining: 23s\n",
      "12:\tlearn: 0.4828387\ttotal: 597ms\tremaining: 22.4s\n",
      "13:\tlearn: 0.4793549\ttotal: 629ms\tremaining: 21.8s\n",
      "14:\tlearn: 0.4763018\ttotal: 662ms\tremaining: 21.4s\n",
      "15:\tlearn: 0.4718675\ttotal: 693ms\tremaining: 21s\n",
      "16:\tlearn: 0.4692204\ttotal: 729ms\tremaining: 20.7s\n",
      "17:\tlearn: 0.4669271\ttotal: 761ms\tremaining: 20.4s\n",
      "18:\tlearn: 0.4643667\ttotal: 824ms\tremaining: 20.9s\n",
      "19:\tlearn: 0.4618929\ttotal: 856ms\tremaining: 20.5s\n",
      "20:\tlearn: 0.4599340\ttotal: 889ms\tremaining: 20.3s\n",
      "21:\tlearn: 0.4588485\ttotal: 922ms\tremaining: 20s\n",
      "22:\tlearn: 0.4581745\ttotal: 953ms\tremaining: 19.8s\n",
      "23:\tlearn: 0.4562622\ttotal: 1.01s\tremaining: 20s\n",
      "24:\tlearn: 0.4546552\ttotal: 1.14s\tremaining: 21.6s\n",
      "25:\tlearn: 0.4518231\ttotal: 1.18s\tremaining: 21.5s\n",
      "26:\tlearn: 0.4501145\ttotal: 1.22s\tremaining: 21.4s\n",
      "27:\tlearn: 0.4495258\ttotal: 1.26s\tremaining: 21.2s\n",
      "28:\tlearn: 0.4474215\ttotal: 1.29s\tremaining: 21s\n",
      "29:\tlearn: 0.4457455\ttotal: 1.33s\tremaining: 20.8s\n",
      "30:\tlearn: 0.4449402\ttotal: 1.39s\tremaining: 21.1s\n",
      "31:\tlearn: 0.4433429\ttotal: 1.43s\tremaining: 20.9s\n",
      "32:\tlearn: 0.4426732\ttotal: 1.46s\tremaining: 20.7s\n",
      "33:\tlearn: 0.4420685\ttotal: 1.5s\tremaining: 20.5s\n",
      "34:\tlearn: 0.4415044\ttotal: 1.53s\tremaining: 20.3s\n",
      "35:\tlearn: 0.4412195\ttotal: 1.56s\tremaining: 20.1s\n",
      "36:\tlearn: 0.4401406\ttotal: 1.6s\tremaining: 20s\n",
      "37:\tlearn: 0.4387735\ttotal: 1.66s\tremaining: 20.1s\n",
      "38:\tlearn: 0.4379240\ttotal: 1.69s\tremaining: 20s\n",
      "39:\tlearn: 0.4371198\ttotal: 1.73s\tremaining: 19.8s\n",
      "40:\tlearn: 0.4364418\ttotal: 1.76s\tremaining: 19.7s\n",
      "41:\tlearn: 0.4356298\ttotal: 1.79s\tremaining: 19.5s\n",
      "42:\tlearn: 0.4339931\ttotal: 1.86s\tremaining: 19.7s\n",
      "43:\tlearn: 0.4332564\ttotal: 1.89s\tremaining: 19.6s\n",
      "44:\tlearn: 0.4325212\ttotal: 1.92s\tremaining: 19.5s\n",
      "45:\tlearn: 0.4322124\ttotal: 1.95s\tremaining: 19.3s\n",
      "46:\tlearn: 0.4315243\ttotal: 1.99s\tremaining: 19.1s\n",
      "47:\tlearn: 0.4311912\ttotal: 2.02s\tremaining: 19s\n",
      "48:\tlearn: 0.4305548\ttotal: 2.05s\tremaining: 18.9s\n",
      "49:\tlearn: 0.4296036\ttotal: 2.11s\tremaining: 19s\n",
      "50:\tlearn: 0.4288820\ttotal: 2.15s\tremaining: 18.9s\n",
      "51:\tlearn: 0.4280773\ttotal: 2.18s\tremaining: 18.8s\n",
      "52:\tlearn: 0.4273245\ttotal: 2.21s\tremaining: 18.6s\n",
      "53:\tlearn: 0.4271778\ttotal: 2.25s\tremaining: 18.6s\n",
      "54:\tlearn: 0.4265894\ttotal: 2.28s\tremaining: 18.4s\n",
      "55:\tlearn: 0.4263264\ttotal: 2.31s\tremaining: 18.3s\n",
      "56:\tlearn: 0.4262012\ttotal: 2.37s\tremaining: 18.4s\n",
      "57:\tlearn: 0.4258651\ttotal: 2.4s\tremaining: 18.3s\n",
      "58:\tlearn: 0.4257227\ttotal: 2.43s\tremaining: 18.2s\n",
      "59:\tlearn: 0.4250248\ttotal: 2.46s\tremaining: 18.1s\n",
      "60:\tlearn: 0.4237635\ttotal: 2.5s\tremaining: 18s\n",
      "61:\tlearn: 0.4235352\ttotal: 2.53s\tremaining: 17.9s\n",
      "62:\tlearn: 0.4224164\ttotal: 2.56s\tremaining: 17.8s\n",
      "63:\tlearn: 0.4217311\ttotal: 2.63s\tremaining: 17.9s\n",
      "64:\tlearn: 0.4211831\ttotal: 2.66s\tremaining: 17.8s\n",
      "65:\tlearn: 0.4204215\ttotal: 2.69s\tremaining: 17.7s\n",
      "66:\tlearn: 0.4200343\ttotal: 2.73s\tremaining: 17.6s\n",
      "67:\tlearn: 0.4181166\ttotal: 2.77s\tremaining: 17.6s\n",
      "68:\tlearn: 0.4175916\ttotal: 2.8s\tremaining: 17.5s\n",
      "69:\tlearn: 0.4170846\ttotal: 2.85s\tremaining: 17.5s\n",
      "70:\tlearn: 0.4164994\ttotal: 2.89s\tremaining: 17.5s\n",
      "71:\tlearn: 0.4158698\ttotal: 2.93s\tremaining: 17.4s\n",
      "72:\tlearn: 0.4146134\ttotal: 2.97s\tremaining: 17.4s\n",
      "73:\tlearn: 0.4143275\ttotal: 3s\tremaining: 17.3s\n",
      "74:\tlearn: 0.4140680\ttotal: 3.03s\tremaining: 17.2s\n",
      "75:\tlearn: 0.4123244\ttotal: 3.11s\tremaining: 17.3s\n",
      "76:\tlearn: 0.4120376\ttotal: 3.14s\tremaining: 17.2s\n",
      "77:\tlearn: 0.4116876\ttotal: 3.17s\tremaining: 17.1s\n",
      "78:\tlearn: 0.4108729\ttotal: 3.2s\tremaining: 17.1s\n",
      "79:\tlearn: 0.4105693\ttotal: 3.23s\tremaining: 17s\n",
      "80:\tlearn: 0.4102656\ttotal: 3.27s\tremaining: 16.9s\n",
      "81:\tlearn: 0.4087734\ttotal: 3.31s\tremaining: 16.9s\n",
      "82:\tlearn: 0.4073220\ttotal: 3.37s\tremaining: 16.9s\n",
      "83:\tlearn: 0.4068372\ttotal: 3.4s\tremaining: 16.9s\n",
      "84:\tlearn: 0.4055449\ttotal: 3.44s\tremaining: 16.8s\n",
      "85:\tlearn: 0.4035773\ttotal: 3.47s\tremaining: 16.7s\n",
      "86:\tlearn: 0.4034235\ttotal: 3.5s\tremaining: 16.6s\n",
      "87:\tlearn: 0.4027769\ttotal: 3.56s\tremaining: 16.7s\n",
      "88:\tlearn: 0.4026916\ttotal: 3.6s\tremaining: 16.6s\n",
      "89:\tlearn: 0.4020672\ttotal: 3.63s\tremaining: 16.5s\n",
      "90:\tlearn: 0.4015750\ttotal: 3.66s\tremaining: 16.4s\n",
      "91:\tlearn: 0.3992912\ttotal: 3.69s\tremaining: 16.4s\n",
      "92:\tlearn: 0.3981055\ttotal: 3.73s\tremaining: 16.3s\n",
      "93:\tlearn: 0.3972951\ttotal: 3.78s\tremaining: 16.3s\n",
      "94:\tlearn: 0.3960187\ttotal: 3.83s\tremaining: 16.3s\n",
      "95:\tlearn: 0.3954128\ttotal: 3.86s\tremaining: 16.2s\n",
      "96:\tlearn: 0.3949262\ttotal: 3.89s\tremaining: 16.2s\n",
      "97:\tlearn: 0.3945564\ttotal: 3.92s\tremaining: 16.1s\n",
      "98:\tlearn: 0.3937737\ttotal: 3.96s\tremaining: 16s\n",
      "99:\tlearn: 0.3935292\ttotal: 4.01s\tremaining: 16.1s\n",
      "100:\tlearn: 0.3919961\ttotal: 4.05s\tremaining: 16s\n",
      "101:\tlearn: 0.3905213\ttotal: 4.1s\tremaining: 16s\n",
      "102:\tlearn: 0.3900211\ttotal: 4.13s\tremaining: 15.9s\n",
      "103:\tlearn: 0.3898183\ttotal: 4.16s\tremaining: 15.9s\n",
      "104:\tlearn: 0.3895358\ttotal: 4.2s\tremaining: 15.8s\n",
      "105:\tlearn: 0.3891599\ttotal: 4.29s\tremaining: 15.9s\n",
      "106:\tlearn: 0.3873671\ttotal: 4.32s\tremaining: 15.9s\n",
      "107:\tlearn: 0.3867053\ttotal: 4.35s\tremaining: 15.8s\n",
      "108:\tlearn: 0.3839820\ttotal: 4.39s\tremaining: 15.8s\n",
      "109:\tlearn: 0.3832257\ttotal: 4.43s\tremaining: 15.7s\n",
      "110:\tlearn: 0.3798187\ttotal: 4.46s\tremaining: 15.6s\n",
      "111:\tlearn: 0.3790549\ttotal: 4.52s\tremaining: 15.7s\n",
      "112:\tlearn: 0.3781700\ttotal: 4.56s\tremaining: 15.6s\n",
      "113:\tlearn: 0.3777518\ttotal: 4.59s\tremaining: 15.5s\n",
      "114:\tlearn: 0.3765135\ttotal: 4.63s\tremaining: 15.5s\n",
      "115:\tlearn: 0.3757782\ttotal: 4.67s\tremaining: 15.4s\n",
      "116:\tlearn: 0.3748645\ttotal: 4.7s\tremaining: 15.4s\n",
      "117:\tlearn: 0.3746510\ttotal: 4.76s\tremaining: 15.4s\n",
      "118:\tlearn: 0.3744884\ttotal: 4.87s\tremaining: 15.6s\n",
      "119:\tlearn: 0.3737466\ttotal: 5s\tremaining: 15.8s\n",
      "120:\tlearn: 0.3732393\ttotal: 5.12s\tremaining: 16s\n",
      "121:\tlearn: 0.3720442\ttotal: 5.25s\tremaining: 16.3s\n",
      "122:\tlearn: 0.3711777\ttotal: 5.36s\tremaining: 16.4s\n",
      "123:\tlearn: 0.3706690\ttotal: 5.41s\tremaining: 16.4s\n",
      "124:\tlearn: 0.3704981\ttotal: 5.45s\tremaining: 16.3s\n",
      "125:\tlearn: 0.3701650\ttotal: 5.5s\tremaining: 16.3s\n",
      "126:\tlearn: 0.3695459\ttotal: 5.53s\tremaining: 16.2s\n",
      "127:\tlearn: 0.3691551\ttotal: 5.56s\tremaining: 16.2s\n",
      "128:\tlearn: 0.3682275\ttotal: 5.6s\tremaining: 16.1s\n",
      "129:\tlearn: 0.3677903\ttotal: 5.63s\tremaining: 16s\n",
      "130:\tlearn: 0.3669522\ttotal: 5.67s\tremaining: 16s\n",
      "131:\tlearn: 0.3659630\ttotal: 5.71s\tremaining: 15.9s\n",
      "132:\tlearn: 0.3653275\ttotal: 5.82s\tremaining: 16.1s\n",
      "133:\tlearn: 0.3636095\ttotal: 5.94s\tremaining: 16.2s\n",
      "134:\tlearn: 0.3633377\ttotal: 6.08s\tremaining: 16.4s\n",
      "135:\tlearn: 0.3629663\ttotal: 6.11s\tremaining: 16.4s\n",
      "136:\tlearn: 0.3622787\ttotal: 6.18s\tremaining: 16.4s\n",
      "137:\tlearn: 0.3620277\ttotal: 6.3s\tremaining: 16.5s\n",
      "138:\tlearn: 0.3613033\ttotal: 6.42s\tremaining: 16.7s\n",
      "139:\tlearn: 0.3605623\ttotal: 6.54s\tremaining: 16.8s\n",
      "140:\tlearn: 0.3603438\ttotal: 6.65s\tremaining: 16.9s\n",
      "141:\tlearn: 0.3593172\ttotal: 6.69s\tremaining: 16.9s\n",
      "142:\tlearn: 0.3591290\ttotal: 6.72s\tremaining: 16.8s\n",
      "143:\tlearn: 0.3586335\ttotal: 6.75s\tremaining: 16.7s\n",
      "144:\tlearn: 0.3583537\ttotal: 6.82s\tremaining: 16.7s\n",
      "145:\tlearn: 0.3580269\ttotal: 6.85s\tremaining: 16.6s\n",
      "146:\tlearn: 0.3578674\ttotal: 6.93s\tremaining: 16.6s\n",
      "147:\tlearn: 0.3573455\ttotal: 6.96s\tremaining: 16.6s\n",
      "148:\tlearn: 0.3565989\ttotal: 7s\tremaining: 16.5s\n",
      "149:\tlearn: 0.3552048\ttotal: 7.04s\tremaining: 16.4s\n",
      "150:\tlearn: 0.3548625\ttotal: 7.1s\tremaining: 16.4s\n",
      "151:\tlearn: 0.3538101\ttotal: 7.13s\tremaining: 16.3s\n",
      "152:\tlearn: 0.3533305\ttotal: 7.17s\tremaining: 16.3s\n",
      "153:\tlearn: 0.3529682\ttotal: 7.2s\tremaining: 16.2s\n",
      "154:\tlearn: 0.3520433\ttotal: 7.24s\tremaining: 16.1s\n",
      "155:\tlearn: 0.3514637\ttotal: 7.27s\tremaining: 16s\n",
      "156:\tlearn: 0.3508018\ttotal: 7.31s\tremaining: 16s\n",
      "157:\tlearn: 0.3498735\ttotal: 7.36s\tremaining: 15.9s\n",
      "158:\tlearn: 0.3493740\ttotal: 7.39s\tremaining: 15.9s\n",
      "159:\tlearn: 0.3492166\ttotal: 7.43s\tremaining: 15.8s\n",
      "160:\tlearn: 0.3490848\ttotal: 7.47s\tremaining: 15.7s\n",
      "161:\tlearn: 0.3485007\ttotal: 7.51s\tremaining: 15.7s\n"
     ]
    },
    {
     "name": "stdout",
     "output_type": "stream",
     "text": [
      "162:\tlearn: 0.3479040\ttotal: 7.57s\tremaining: 15.6s\n",
      "163:\tlearn: 0.3470015\ttotal: 7.6s\tremaining: 15.6s\n",
      "164:\tlearn: 0.3467266\ttotal: 7.63s\tremaining: 15.5s\n",
      "165:\tlearn: 0.3465426\ttotal: 7.67s\tremaining: 15.4s\n",
      "166:\tlearn: 0.3462805\ttotal: 7.78s\tremaining: 15.5s\n",
      "167:\tlearn: 0.3460171\ttotal: 7.89s\tremaining: 15.6s\n",
      "168:\tlearn: 0.3455833\ttotal: 8.01s\tremaining: 15.7s\n",
      "169:\tlearn: 0.3454253\ttotal: 8.09s\tremaining: 15.7s\n",
      "170:\tlearn: 0.3446039\ttotal: 8.13s\tremaining: 15.6s\n",
      "171:\tlearn: 0.3444539\ttotal: 8.16s\tremaining: 15.6s\n",
      "172:\tlearn: 0.3440387\ttotal: 8.21s\tremaining: 15.5s\n",
      "173:\tlearn: 0.3438346\ttotal: 8.26s\tremaining: 15.5s\n",
      "174:\tlearn: 0.3437279\ttotal: 8.3s\tremaining: 15.4s\n",
      "175:\tlearn: 0.3435179\ttotal: 8.34s\tremaining: 15.3s\n",
      "176:\tlearn: 0.3433574\ttotal: 8.37s\tremaining: 15.3s\n",
      "177:\tlearn: 0.3430805\ttotal: 8.4s\tremaining: 15.2s\n",
      "178:\tlearn: 0.3428365\ttotal: 8.43s\tremaining: 15.1s\n",
      "179:\tlearn: 0.3426633\ttotal: 8.47s\tremaining: 15.1s\n",
      "180:\tlearn: 0.3413900\ttotal: 8.52s\tremaining: 15s\n",
      "181:\tlearn: 0.3401849\ttotal: 8.56s\tremaining: 15s\n",
      "182:\tlearn: 0.3400578\ttotal: 8.59s\tremaining: 14.9s\n",
      "183:\tlearn: 0.3399667\ttotal: 8.62s\tremaining: 14.8s\n",
      "184:\tlearn: 0.3397695\ttotal: 8.66s\tremaining: 14.7s\n",
      "185:\tlearn: 0.3396016\ttotal: 8.71s\tremaining: 14.7s\n",
      "186:\tlearn: 0.3390692\ttotal: 8.75s\tremaining: 14.6s\n",
      "187:\tlearn: 0.3387392\ttotal: 8.78s\tremaining: 14.6s\n",
      "188:\tlearn: 0.3385743\ttotal: 8.82s\tremaining: 14.5s\n",
      "189:\tlearn: 0.3377583\ttotal: 8.85s\tremaining: 14.4s\n",
      "190:\tlearn: 0.3372817\ttotal: 8.89s\tremaining: 14.4s\n",
      "191:\tlearn: 0.3368925\ttotal: 8.94s\tremaining: 14.3s\n",
      "192:\tlearn: 0.3366404\ttotal: 8.99s\tremaining: 14.3s\n",
      "193:\tlearn: 0.3362699\ttotal: 9.02s\tremaining: 14.2s\n",
      "194:\tlearn: 0.3357730\ttotal: 9.06s\tremaining: 14.2s\n",
      "195:\tlearn: 0.3350808\ttotal: 9.09s\tremaining: 14.1s\n",
      "196:\tlearn: 0.3349133\ttotal: 9.14s\tremaining: 14.1s\n",
      "197:\tlearn: 0.3346863\ttotal: 9.2s\tremaining: 14s\n",
      "198:\tlearn: 0.3345206\ttotal: 9.28s\tremaining: 14s\n",
      "199:\tlearn: 0.3342172\ttotal: 9.31s\tremaining: 14s\n",
      "200:\tlearn: 0.3335178\ttotal: 9.35s\tremaining: 13.9s\n",
      "201:\tlearn: 0.3326192\ttotal: 9.39s\tremaining: 13.9s\n",
      "202:\tlearn: 0.3323134\ttotal: 9.45s\tremaining: 13.8s\n",
      "203:\tlearn: 0.3322267\ttotal: 9.48s\tremaining: 13.8s\n",
      "204:\tlearn: 0.3313231\ttotal: 9.52s\tremaining: 13.7s\n",
      "205:\tlearn: 0.3310516\ttotal: 9.56s\tremaining: 13.6s\n",
      "206:\tlearn: 0.3309638\ttotal: 9.59s\tremaining: 13.6s\n",
      "207:\tlearn: 0.3300769\ttotal: 9.63s\tremaining: 13.5s\n",
      "208:\tlearn: 0.3299971\ttotal: 9.69s\tremaining: 13.5s\n",
      "209:\tlearn: 0.3299256\ttotal: 9.72s\tremaining: 13.4s\n",
      "210:\tlearn: 0.3293985\ttotal: 9.76s\tremaining: 13.4s\n",
      "211:\tlearn: 0.3291873\ttotal: 9.79s\tremaining: 13.3s\n",
      "212:\tlearn: 0.3283598\ttotal: 9.83s\tremaining: 13.2s\n",
      "213:\tlearn: 0.3279642\ttotal: 9.87s\tremaining: 13.2s\n",
      "214:\tlearn: 0.3268806\ttotal: 9.92s\tremaining: 13.2s\n",
      "215:\tlearn: 0.3266232\ttotal: 9.96s\tremaining: 13.1s\n",
      "216:\tlearn: 0.3263367\ttotal: 10s\tremaining: 13s\n",
      "217:\tlearn: 0.3259772\ttotal: 10s\tremaining: 13s\n",
      "218:\tlearn: 0.3258344\ttotal: 10.1s\tremaining: 12.9s\n",
      "219:\tlearn: 0.3255595\ttotal: 10.1s\tremaining: 12.9s\n",
      "220:\tlearn: 0.3251762\ttotal: 10.2s\tremaining: 12.8s\n",
      "221:\tlearn: 0.3247770\ttotal: 10.2s\tremaining: 12.8s\n",
      "222:\tlearn: 0.3244890\ttotal: 10.3s\tremaining: 12.8s\n",
      "223:\tlearn: 0.3239219\ttotal: 10.3s\tremaining: 12.7s\n",
      "224:\tlearn: 0.3227463\ttotal: 10.3s\tremaining: 12.6s\n",
      "225:\tlearn: 0.3223576\ttotal: 10.4s\tremaining: 12.6s\n",
      "226:\tlearn: 0.3222061\ttotal: 10.4s\tremaining: 12.6s\n",
      "227:\tlearn: 0.3220502\ttotal: 10.5s\tremaining: 12.5s\n",
      "228:\tlearn: 0.3219558\ttotal: 10.5s\tremaining: 12.4s\n",
      "229:\tlearn: 0.3213513\ttotal: 10.6s\tremaining: 12.4s\n",
      "230:\tlearn: 0.3204444\ttotal: 10.6s\tremaining: 12.4s\n",
      "231:\tlearn: 0.3199480\ttotal: 10.7s\tremaining: 12.3s\n",
      "232:\tlearn: 0.3195095\ttotal: 10.7s\tremaining: 12.3s\n",
      "233:\tlearn: 0.3194178\ttotal: 10.8s\tremaining: 12.2s\n",
      "234:\tlearn: 0.3193044\ttotal: 10.8s\tremaining: 12.2s\n",
      "235:\tlearn: 0.3191952\ttotal: 10.9s\tremaining: 12.1s\n",
      "236:\tlearn: 0.3185923\ttotal: 10.9s\tremaining: 12.1s\n",
      "237:\tlearn: 0.3181931\ttotal: 11s\tremaining: 12.1s\n",
      "238:\tlearn: 0.3179382\ttotal: 11s\tremaining: 12s\n",
      "239:\tlearn: 0.3177417\ttotal: 11s\tremaining: 11.9s\n",
      "240:\tlearn: 0.3170496\ttotal: 11.1s\tremaining: 11.9s\n",
      "241:\tlearn: 0.3165161\ttotal: 11.2s\tremaining: 11.9s\n",
      "242:\tlearn: 0.3161379\ttotal: 11.3s\tremaining: 11.9s\n",
      "243:\tlearn: 0.3155664\ttotal: 11.4s\tremaining: 11.9s\n",
      "244:\tlearn: 0.3154653\ttotal: 11.4s\tremaining: 11.9s\n",
      "245:\tlearn: 0.3152767\ttotal: 11.5s\tremaining: 11.9s\n",
      "246:\tlearn: 0.3149990\ttotal: 11.5s\tremaining: 11.8s\n",
      "247:\tlearn: 0.3147973\ttotal: 11.6s\tremaining: 11.8s\n",
      "248:\tlearn: 0.3146271\ttotal: 11.7s\tremaining: 11.8s\n",
      "249:\tlearn: 0.3145495\ttotal: 11.7s\tremaining: 11.7s\n",
      "250:\tlearn: 0.3143631\ttotal: 11.8s\tremaining: 11.7s\n",
      "251:\tlearn: 0.3142344\ttotal: 11.8s\tremaining: 11.6s\n",
      "252:\tlearn: 0.3132160\ttotal: 11.9s\tremaining: 11.6s\n",
      "253:\tlearn: 0.3131238\ttotal: 11.9s\tremaining: 11.5s\n",
      "254:\tlearn: 0.3129321\ttotal: 12s\tremaining: 11.5s\n",
      "255:\tlearn: 0.3127494\ttotal: 12s\tremaining: 11.5s\n",
      "256:\tlearn: 0.3126731\ttotal: 12.1s\tremaining: 11.4s\n",
      "257:\tlearn: 0.3125636\ttotal: 12.1s\tremaining: 11.4s\n",
      "258:\tlearn: 0.3124703\ttotal: 12.3s\tremaining: 11.5s\n",
      "259:\tlearn: 0.3122183\ttotal: 12.5s\tremaining: 11.5s\n",
      "260:\tlearn: 0.3118489\ttotal: 12.6s\tremaining: 11.6s\n",
      "261:\tlearn: 0.3106811\ttotal: 12.7s\tremaining: 11.6s\n",
      "262:\tlearn: 0.3102396\ttotal: 12.8s\tremaining: 11.5s\n",
      "263:\tlearn: 0.3098476\ttotal: 12.8s\tremaining: 11.4s\n",
      "264:\tlearn: 0.3096609\ttotal: 12.8s\tremaining: 11.4s\n",
      "265:\tlearn: 0.3095821\ttotal: 12.9s\tremaining: 11.3s\n",
      "266:\tlearn: 0.3093016\ttotal: 12.9s\tremaining: 11.3s\n",
      "267:\tlearn: 0.3088585\ttotal: 13s\tremaining: 11.2s\n",
      "268:\tlearn: 0.3077335\ttotal: 13s\tremaining: 11.2s\n",
      "269:\tlearn: 0.3071307\ttotal: 13.1s\tremaining: 11.1s\n",
      "270:\tlearn: 0.3070898\ttotal: 13.1s\tremaining: 11.1s\n",
      "271:\tlearn: 0.3061092\ttotal: 13.2s\tremaining: 11.1s\n",
      "272:\tlearn: 0.3056388\ttotal: 13.3s\tremaining: 11.1s\n",
      "273:\tlearn: 0.3048704\ttotal: 13.4s\tremaining: 11.1s\n",
      "274:\tlearn: 0.3045185\ttotal: 13.6s\tremaining: 11.1s\n",
      "275:\tlearn: 0.3044604\ttotal: 13.7s\tremaining: 11.1s\n",
      "276:\tlearn: 0.3043499\ttotal: 13.8s\tremaining: 11.1s\n",
      "277:\tlearn: 0.3041217\ttotal: 13.8s\tremaining: 11s\n",
      "278:\tlearn: 0.3036198\ttotal: 13.9s\tremaining: 11s\n",
      "279:\tlearn: 0.3035312\ttotal: 13.9s\tremaining: 10.9s\n",
      "280:\tlearn: 0.3034529\ttotal: 14s\tremaining: 10.9s\n",
      "281:\tlearn: 0.3032997\ttotal: 14s\tremaining: 10.8s\n",
      "282:\tlearn: 0.3030840\ttotal: 14s\tremaining: 10.8s\n",
      "283:\tlearn: 0.3029028\ttotal: 14.1s\tremaining: 10.7s\n",
      "284:\tlearn: 0.3024196\ttotal: 14.1s\tremaining: 10.6s\n",
      "285:\tlearn: 0.3022587\ttotal: 14.2s\tremaining: 10.6s\n",
      "286:\tlearn: 0.3021626\ttotal: 14.3s\tremaining: 10.6s\n",
      "287:\tlearn: 0.3020398\ttotal: 14.3s\tremaining: 10.5s\n",
      "288:\tlearn: 0.3019613\ttotal: 14.4s\tremaining: 10.5s\n",
      "289:\tlearn: 0.3018898\ttotal: 14.5s\tremaining: 10.5s\n",
      "290:\tlearn: 0.3018425\ttotal: 14.5s\tremaining: 10.4s\n",
      "291:\tlearn: 0.3013393\ttotal: 14.6s\tremaining: 10.4s\n",
      "292:\tlearn: 0.3011288\ttotal: 14.7s\tremaining: 10.4s\n",
      "293:\tlearn: 0.3009271\ttotal: 14.7s\tremaining: 10.3s\n",
      "294:\tlearn: 0.3006270\ttotal: 14.8s\tremaining: 10.3s\n",
      "295:\tlearn: 0.3005178\ttotal: 14.8s\tremaining: 10.2s\n",
      "296:\tlearn: 0.3000244\ttotal: 14.9s\tremaining: 10.2s\n",
      "297:\tlearn: 0.2999755\ttotal: 14.9s\tremaining: 10.1s\n",
      "298:\tlearn: 0.2999311\ttotal: 15s\tremaining: 10.1s\n",
      "299:\tlearn: 0.2998880\ttotal: 15s\tremaining: 10s\n",
      "300:\tlearn: 0.2994618\ttotal: 15s\tremaining: 9.94s\n",
      "301:\tlearn: 0.2990992\ttotal: 15.1s\tremaining: 9.88s\n",
      "302:\tlearn: 0.2985417\ttotal: 15.2s\tremaining: 9.88s\n",
      "303:\tlearn: 0.2984670\ttotal: 15.3s\tremaining: 9.85s\n",
      "304:\tlearn: 0.2983676\ttotal: 15.3s\tremaining: 9.78s\n",
      "305:\tlearn: 0.2981183\ttotal: 15.3s\tremaining: 9.73s\n",
      "306:\tlearn: 0.2979595\ttotal: 15.4s\tremaining: 9.67s\n",
      "307:\tlearn: 0.2974575\ttotal: 15.4s\tremaining: 9.63s\n",
      "308:\tlearn: 0.2973755\ttotal: 15.5s\tremaining: 9.57s\n",
      "309:\tlearn: 0.2971904\ttotal: 15.5s\tremaining: 9.52s\n",
      "310:\tlearn: 0.2967805\ttotal: 15.6s\tremaining: 9.48s\n",
      "311:\tlearn: 0.2965884\ttotal: 15.6s\tremaining: 9.42s\n",
      "312:\tlearn: 0.2961483\ttotal: 15.7s\tremaining: 9.38s\n",
      "313:\tlearn: 0.2958627\ttotal: 15.8s\tremaining: 9.35s\n",
      "314:\tlearn: 0.2957982\ttotal: 15.9s\tremaining: 9.34s\n",
      "315:\tlearn: 0.2955463\ttotal: 16s\tremaining: 9.34s\n",
      "316:\tlearn: 0.2952964\ttotal: 16.1s\tremaining: 9.32s\n",
      "317:\tlearn: 0.2950211\ttotal: 16.3s\tremaining: 9.33s\n",
      "318:\tlearn: 0.2947887\ttotal: 16.4s\tremaining: 9.32s\n",
      "319:\tlearn: 0.2943008\ttotal: 16.5s\tremaining: 9.27s\n",
      "320:\tlearn: 0.2942080\ttotal: 16.5s\tremaining: 9.21s\n"
     ]
    },
    {
     "name": "stdout",
     "output_type": "stream",
     "text": [
      "321:\tlearn: 0.2941451\ttotal: 16.6s\tremaining: 9.15s\n",
      "322:\tlearn: 0.2932035\ttotal: 16.6s\tremaining: 9.09s\n",
      "323:\tlearn: 0.2930870\ttotal: 16.6s\tremaining: 9.03s\n",
      "324:\tlearn: 0.2929835\ttotal: 16.7s\tremaining: 8.97s\n",
      "325:\tlearn: 0.2928326\ttotal: 16.7s\tremaining: 8.91s\n",
      "326:\tlearn: 0.2924674\ttotal: 16.7s\tremaining: 8.85s\n",
      "327:\tlearn: 0.2921567\ttotal: 16.8s\tremaining: 8.78s\n",
      "328:\tlearn: 0.2918304\ttotal: 16.8s\tremaining: 8.73s\n",
      "329:\tlearn: 0.2916468\ttotal: 16.9s\tremaining: 8.68s\n",
      "330:\tlearn: 0.2915087\ttotal: 16.9s\tremaining: 8.62s\n",
      "331:\tlearn: 0.2913233\ttotal: 16.9s\tremaining: 8.56s\n",
      "332:\tlearn: 0.2911957\ttotal: 17s\tremaining: 8.5s\n",
      "333:\tlearn: 0.2899262\ttotal: 17s\tremaining: 8.45s\n",
      "334:\tlearn: 0.2898195\ttotal: 17.1s\tremaining: 8.4s\n",
      "335:\tlearn: 0.2895699\ttotal: 17.1s\tremaining: 8.34s\n",
      "336:\tlearn: 0.2894332\ttotal: 17.1s\tremaining: 8.28s\n",
      "337:\tlearn: 0.2893722\ttotal: 17.2s\tremaining: 8.23s\n",
      "338:\tlearn: 0.2893235\ttotal: 17.2s\tremaining: 8.17s\n",
      "339:\tlearn: 0.2892739\ttotal: 17.2s\tremaining: 8.11s\n",
      "340:\tlearn: 0.2888697\ttotal: 17.3s\tremaining: 8.06s\n",
      "341:\tlearn: 0.2883708\ttotal: 17.3s\tremaining: 8.01s\n",
      "342:\tlearn: 0.2882818\ttotal: 17.4s\tremaining: 7.95s\n",
      "343:\tlearn: 0.2879971\ttotal: 17.4s\tremaining: 7.89s\n",
      "344:\tlearn: 0.2871555\ttotal: 17.4s\tremaining: 7.83s\n",
      "345:\tlearn: 0.2869814\ttotal: 17.5s\tremaining: 7.79s\n",
      "346:\tlearn: 0.2868115\ttotal: 17.5s\tremaining: 7.74s\n",
      "347:\tlearn: 0.2862038\ttotal: 17.6s\tremaining: 7.68s\n",
      "348:\tlearn: 0.2853219\ttotal: 17.6s\tremaining: 7.62s\n",
      "349:\tlearn: 0.2848753\ttotal: 17.7s\tremaining: 7.57s\n",
      "350:\tlearn: 0.2847419\ttotal: 17.8s\tremaining: 7.55s\n",
      "351:\tlearn: 0.2846907\ttotal: 17.9s\tremaining: 7.51s\n",
      "352:\tlearn: 0.2844434\ttotal: 17.9s\tremaining: 7.46s\n",
      "353:\tlearn: 0.2839192\ttotal: 18s\tremaining: 7.41s\n",
      "354:\tlearn: 0.2835649\ttotal: 18s\tremaining: 7.36s\n",
      "355:\tlearn: 0.2835126\ttotal: 18.1s\tremaining: 7.3s\n",
      "356:\tlearn: 0.2832871\ttotal: 18.1s\tremaining: 7.25s\n",
      "357:\tlearn: 0.2832483\ttotal: 18.1s\tremaining: 7.19s\n",
      "358:\tlearn: 0.2829269\ttotal: 18.2s\tremaining: 7.13s\n",
      "359:\tlearn: 0.2828756\ttotal: 18.2s\tremaining: 7.07s\n",
      "360:\tlearn: 0.2826838\ttotal: 18.2s\tremaining: 7.02s\n",
      "361:\tlearn: 0.2818916\ttotal: 18.3s\tremaining: 6.97s\n",
      "362:\tlearn: 0.2817551\ttotal: 18.3s\tremaining: 6.91s\n",
      "363:\tlearn: 0.2816897\ttotal: 18.4s\tremaining: 6.86s\n",
      "364:\tlearn: 0.2815012\ttotal: 18.4s\tremaining: 6.8s\n",
      "365:\tlearn: 0.2813931\ttotal: 18.4s\tremaining: 6.75s\n",
      "366:\tlearn: 0.2809035\ttotal: 18.5s\tremaining: 6.7s\n",
      "367:\tlearn: 0.2808039\ttotal: 18.5s\tremaining: 6.65s\n",
      "368:\tlearn: 0.2806824\ttotal: 18.6s\tremaining: 6.59s\n",
      "369:\tlearn: 0.2806356\ttotal: 18.6s\tremaining: 6.54s\n",
      "370:\tlearn: 0.2800299\ttotal: 18.7s\tremaining: 6.49s\n",
      "371:\tlearn: 0.2798897\ttotal: 18.7s\tremaining: 6.44s\n",
      "372:\tlearn: 0.2797937\ttotal: 18.8s\tremaining: 6.39s\n",
      "373:\tlearn: 0.2795971\ttotal: 18.8s\tremaining: 6.34s\n",
      "374:\tlearn: 0.2795370\ttotal: 18.9s\tremaining: 6.3s\n",
      "375:\tlearn: 0.2789436\ttotal: 18.9s\tremaining: 6.24s\n",
      "376:\tlearn: 0.2788828\ttotal: 19s\tremaining: 6.19s\n",
      "377:\tlearn: 0.2787062\ttotal: 19s\tremaining: 6.14s\n",
      "378:\tlearn: 0.2781619\ttotal: 19.1s\tremaining: 6.08s\n",
      "379:\tlearn: 0.2780174\ttotal: 19.1s\tremaining: 6.03s\n",
      "380:\tlearn: 0.2779406\ttotal: 19.1s\tremaining: 5.98s\n",
      "381:\tlearn: 0.2777395\ttotal: 19.2s\tremaining: 5.92s\n",
      "382:\tlearn: 0.2776842\ttotal: 19.2s\tremaining: 5.88s\n",
      "383:\tlearn: 0.2776134\ttotal: 19.3s\tremaining: 5.82s\n",
      "384:\tlearn: 0.2771701\ttotal: 19.3s\tremaining: 5.77s\n",
      "385:\tlearn: 0.2770124\ttotal: 19.3s\tremaining: 5.71s\n",
      "386:\tlearn: 0.2769804\ttotal: 19.4s\tremaining: 5.67s\n",
      "387:\tlearn: 0.2769293\ttotal: 19.4s\tremaining: 5.61s\n",
      "388:\tlearn: 0.2767205\ttotal: 19.5s\tremaining: 5.56s\n",
      "389:\tlearn: 0.2765667\ttotal: 19.5s\tremaining: 5.5s\n",
      "390:\tlearn: 0.2764468\ttotal: 19.5s\tremaining: 5.45s\n",
      "391:\tlearn: 0.2764121\ttotal: 19.6s\tremaining: 5.39s\n",
      "392:\tlearn: 0.2759181\ttotal: 19.6s\tremaining: 5.34s\n",
      "393:\tlearn: 0.2754020\ttotal: 19.7s\tremaining: 5.29s\n",
      "394:\tlearn: 0.2751892\ttotal: 19.7s\tremaining: 5.24s\n",
      "395:\tlearn: 0.2748857\ttotal: 19.7s\tremaining: 5.18s\n",
      "396:\tlearn: 0.2748019\ttotal: 19.8s\tremaining: 5.13s\n",
      "397:\tlearn: 0.2744726\ttotal: 19.8s\tremaining: 5.07s\n",
      "398:\tlearn: 0.2742959\ttotal: 19.8s\tremaining: 5.02s\n",
      "399:\tlearn: 0.2740718\ttotal: 19.9s\tremaining: 4.97s\n",
      "400:\tlearn: 0.2739671\ttotal: 20s\tremaining: 4.92s\n",
      "401:\tlearn: 0.2737077\ttotal: 20s\tremaining: 4.87s\n",
      "402:\tlearn: 0.2736173\ttotal: 20s\tremaining: 4.82s\n",
      "403:\tlearn: 0.2734283\ttotal: 20s\tremaining: 4.76s\n",
      "404:\tlearn: 0.2732576\ttotal: 20.1s\tremaining: 4.71s\n",
      "405:\tlearn: 0.2730997\ttotal: 20.1s\tremaining: 4.66s\n",
      "406:\tlearn: 0.2728717\ttotal: 20.2s\tremaining: 4.62s\n",
      "407:\tlearn: 0.2727941\ttotal: 20.2s\tremaining: 4.57s\n",
      "408:\tlearn: 0.2727076\ttotal: 20.3s\tremaining: 4.51s\n",
      "409:\tlearn: 0.2726663\ttotal: 20.3s\tremaining: 4.46s\n",
      "410:\tlearn: 0.2725981\ttotal: 20.4s\tremaining: 4.41s\n",
      "411:\tlearn: 0.2725520\ttotal: 20.4s\tremaining: 4.36s\n",
      "412:\tlearn: 0.2720154\ttotal: 20.5s\tremaining: 4.31s\n",
      "413:\tlearn: 0.2719074\ttotal: 20.5s\tremaining: 4.26s\n",
      "414:\tlearn: 0.2716401\ttotal: 20.6s\tremaining: 4.21s\n",
      "415:\tlearn: 0.2712577\ttotal: 20.6s\tremaining: 4.16s\n",
      "416:\tlearn: 0.2711242\ttotal: 20.6s\tremaining: 4.11s\n",
      "417:\tlearn: 0.2709887\ttotal: 20.7s\tremaining: 4.06s\n",
      "418:\tlearn: 0.2706828\ttotal: 20.8s\tremaining: 4.02s\n",
      "419:\tlearn: 0.2706161\ttotal: 20.8s\tremaining: 3.96s\n",
      "420:\tlearn: 0.2702922\ttotal: 20.9s\tremaining: 3.91s\n",
      "421:\tlearn: 0.2695843\ttotal: 20.9s\tremaining: 3.86s\n",
      "422:\tlearn: 0.2694216\ttotal: 21s\tremaining: 3.82s\n",
      "423:\tlearn: 0.2693567\ttotal: 21s\tremaining: 3.77s\n",
      "424:\tlearn: 0.2693052\ttotal: 21.1s\tremaining: 3.72s\n",
      "425:\tlearn: 0.2691005\ttotal: 21.1s\tremaining: 3.67s\n",
      "426:\tlearn: 0.2689968\ttotal: 21.1s\tremaining: 3.62s\n",
      "427:\tlearn: 0.2685733\ttotal: 21.2s\tremaining: 3.56s\n",
      "428:\tlearn: 0.2682231\ttotal: 21.3s\tremaining: 3.52s\n",
      "429:\tlearn: 0.2681451\ttotal: 21.4s\tremaining: 3.48s\n",
      "430:\tlearn: 0.2680664\ttotal: 21.4s\tremaining: 3.42s\n",
      "431:\tlearn: 0.2678470\ttotal: 21.4s\tremaining: 3.37s\n",
      "432:\tlearn: 0.2676336\ttotal: 21.5s\tremaining: 3.32s\n",
      "433:\tlearn: 0.2675831\ttotal: 21.5s\tremaining: 3.27s\n",
      "434:\tlearn: 0.2673934\ttotal: 21.6s\tremaining: 3.22s\n",
      "435:\tlearn: 0.2670826\ttotal: 21.6s\tremaining: 3.17s\n",
      "436:\tlearn: 0.2669742\ttotal: 21.7s\tremaining: 3.13s\n",
      "437:\tlearn: 0.2668501\ttotal: 21.7s\tremaining: 3.07s\n",
      "438:\tlearn: 0.2667348\ttotal: 21.8s\tremaining: 3.02s\n",
      "439:\tlearn: 0.2665085\ttotal: 21.8s\tremaining: 2.97s\n",
      "440:\tlearn: 0.2662926\ttotal: 21.9s\tremaining: 2.93s\n",
      "441:\tlearn: 0.2662441\ttotal: 21.9s\tremaining: 2.88s\n",
      "442:\tlearn: 0.2661912\ttotal: 22s\tremaining: 2.83s\n",
      "443:\tlearn: 0.2661313\ttotal: 22s\tremaining: 2.78s\n",
      "444:\tlearn: 0.2656897\ttotal: 22.1s\tremaining: 2.73s\n",
      "445:\tlearn: 0.2656130\ttotal: 22.1s\tremaining: 2.68s\n",
      "446:\tlearn: 0.2653355\ttotal: 22.2s\tremaining: 2.63s\n",
      "447:\tlearn: 0.2652448\ttotal: 22.2s\tremaining: 2.58s\n",
      "448:\tlearn: 0.2652114\ttotal: 22.3s\tremaining: 2.54s\n",
      "449:\tlearn: 0.2649640\ttotal: 22.5s\tremaining: 2.5s\n",
      "450:\tlearn: 0.2649169\ttotal: 22.6s\tremaining: 2.45s\n",
      "451:\tlearn: 0.2648577\ttotal: 22.7s\tremaining: 2.41s\n",
      "452:\tlearn: 0.2646645\ttotal: 22.8s\tremaining: 2.37s\n",
      "453:\tlearn: 0.2645947\ttotal: 22.9s\tremaining: 2.32s\n",
      "454:\tlearn: 0.2644961\ttotal: 22.9s\tremaining: 2.27s\n",
      "455:\tlearn: 0.2644470\ttotal: 23s\tremaining: 2.21s\n",
      "456:\tlearn: 0.2643698\ttotal: 23s\tremaining: 2.16s\n",
      "457:\tlearn: 0.2642387\ttotal: 23s\tremaining: 2.11s\n",
      "458:\tlearn: 0.2641538\ttotal: 23.1s\tremaining: 2.06s\n",
      "459:\tlearn: 0.2640861\ttotal: 23.2s\tremaining: 2.01s\n",
      "460:\tlearn: 0.2638141\ttotal: 23.2s\tremaining: 1.96s\n",
      "461:\tlearn: 0.2635750\ttotal: 23.2s\tremaining: 1.91s\n",
      "462:\tlearn: 0.2630784\ttotal: 23.3s\tremaining: 1.86s\n",
      "463:\tlearn: 0.2629737\ttotal: 23.4s\tremaining: 1.81s\n",
      "464:\tlearn: 0.2627175\ttotal: 23.4s\tremaining: 1.76s\n",
      "465:\tlearn: 0.2625956\ttotal: 23.5s\tremaining: 1.71s\n",
      "466:\tlearn: 0.2625435\ttotal: 23.5s\tremaining: 1.66s\n",
      "467:\tlearn: 0.2625032\ttotal: 23.6s\tremaining: 1.61s\n",
      "468:\tlearn: 0.2624283\ttotal: 23.6s\tremaining: 1.56s\n",
      "469:\tlearn: 0.2623298\ttotal: 23.7s\tremaining: 1.51s\n",
      "470:\tlearn: 0.2622821\ttotal: 23.7s\tremaining: 1.46s\n",
      "471:\tlearn: 0.2622315\ttotal: 23.8s\tremaining: 1.41s\n",
      "472:\tlearn: 0.2621268\ttotal: 23.8s\tremaining: 1.36s\n",
      "473:\tlearn: 0.2621175\ttotal: 23.9s\tremaining: 1.31s\n",
      "474:\tlearn: 0.2615726\ttotal: 24s\tremaining: 1.26s\n",
      "475:\tlearn: 0.2615017\ttotal: 24s\tremaining: 1.21s\n",
      "476:\tlearn: 0.2613084\ttotal: 24s\tremaining: 1.16s\n",
      "477:\tlearn: 0.2612779\ttotal: 24.1s\tremaining: 1.11s\n",
      "478:\tlearn: 0.2612562\ttotal: 24.2s\tremaining: 1.06s\n",
      "479:\tlearn: 0.2609443\ttotal: 24.2s\tremaining: 1.01s\n",
      "480:\tlearn: 0.2608880\ttotal: 24.2s\tremaining: 958ms\n",
      "481:\tlearn: 0.2607989\ttotal: 24.4s\tremaining: 909ms\n",
      "482:\tlearn: 0.2607624\ttotal: 24.4s\tremaining: 858ms\n",
      "483:\tlearn: 0.2607254\ttotal: 24.4s\tremaining: 807ms\n"
     ]
    },
    {
     "name": "stdout",
     "output_type": "stream",
     "text": [
      "484:\tlearn: 0.2605451\ttotal: 24.5s\tremaining: 757ms\n",
      "485:\tlearn: 0.2603937\ttotal: 24.5s\tremaining: 706ms\n",
      "486:\tlearn: 0.2603530\ttotal: 24.5s\tremaining: 655ms\n",
      "487:\tlearn: 0.2602422\ttotal: 24.6s\tremaining: 604ms\n",
      "488:\tlearn: 0.2600761\ttotal: 24.6s\tremaining: 555ms\n",
      "489:\tlearn: 0.2598043\ttotal: 24.7s\tremaining: 504ms\n",
      "490:\tlearn: 0.2595794\ttotal: 24.8s\tremaining: 454ms\n",
      "491:\tlearn: 0.2594745\ttotal: 24.9s\tremaining: 404ms\n",
      "492:\tlearn: 0.2590287\ttotal: 24.9s\tremaining: 354ms\n",
      "493:\tlearn: 0.2589407\ttotal: 25s\tremaining: 303ms\n",
      "494:\tlearn: 0.2587227\ttotal: 25s\tremaining: 253ms\n",
      "495:\tlearn: 0.2582821\ttotal: 25.1s\tremaining: 202ms\n",
      "496:\tlearn: 0.2579790\ttotal: 25.1s\tremaining: 152ms\n",
      "497:\tlearn: 0.2579231\ttotal: 25.2s\tremaining: 101ms\n",
      "498:\tlearn: 0.2574582\ttotal: 25.2s\tremaining: 50.6ms\n",
      "499:\tlearn: 0.2573873\ttotal: 25.3s\tremaining: 0us\n"
     ]
    },
    {
     "data": {
      "text/plain": [
       "RandomizedSearchCV(cv=StratifiedKFold(n_splits=3, random_state=41, shuffle=True),\n",
       "          error_score='raise-deprecating',\n",
       "          estimator=<catboost.core.CatBoostClassifier object at 0x1a18228eb8>,\n",
       "          fit_params=None, iid='warn', n_iter=70, n_jobs=-1,\n",
       "          param_distributions={'n_estimators': [100, 200, 300, 400, 500], 'learning_rate': [0.01, 0.05, 0.08, 0.1, 0.13, 0.17, 0.3, 0.6, 0.8, 1.0], 'max_depth': [1, 2, 3, 4, 5]},\n",
       "          pre_dispatch='2*n_jobs', random_state=None, refit=True,\n",
       "          return_train_score='warn', scoring=None, verbose=True)"
      ]
     },
     "execution_count": 20,
     "metadata": {},
     "output_type": "execute_result"
    }
   ],
   "source": [
    "rand_cb.fit(X_train, y_train)\n",
    "#grid_cb.fit(X_train, y_train)"
   ]
  },
  {
   "cell_type": "code",
   "execution_count": 21,
   "metadata": {},
   "outputs": [
    {
     "data": {
      "text/plain": [
       "<catboost.core.CatBoostClassifier at 0x1a1cea9eb8>"
      ]
     },
     "execution_count": 21,
     "metadata": {},
     "output_type": "execute_result"
    }
   ],
   "source": [
    "rand_cb.best_estimator_\n",
    "#grid_cb.best_estimator_"
   ]
  },
  {
   "cell_type": "code",
   "execution_count": 22,
   "metadata": {},
   "outputs": [
    {
     "name": "stdout",
     "output_type": "stream",
     "text": [
      "Rendimiento de CatBoostClassifier + RS:\t0.819 ± 0.005\n"
     ]
    }
   ],
   "source": [
    "evaluar_rendimiento(rand_cb.best_estimator_, \"CatBoostClassifier + RS\", \\\n",
    "                    X_train, y_train, cv)\n",
    "#evaluar_rendimiento(grid_cb.best_estimator_, \"CatBoostClassifier + GS\", \\\n",
    " #                  X_train, y_train, cv)"
   ]
  },
  {
   "cell_type": "code",
   "execution_count": 23,
   "metadata": {},
   "outputs": [
    {
     "data": {
      "text/html": [
       "<div>\n",
       "<style scoped>\n",
       "    .dataframe tbody tr th:only-of-type {\n",
       "        vertical-align: middle;\n",
       "    }\n",
       "\n",
       "    .dataframe tbody tr th {\n",
       "        vertical-align: top;\n",
       "    }\n",
       "\n",
       "    .dataframe thead th {\n",
       "        text-align: right;\n",
       "    }\n",
       "</style>\n",
       "<table border=\"1\" class=\"dataframe\">\n",
       "  <thead>\n",
       "    <tr style=\"text-align: right;\">\n",
       "      <th></th>\n",
       "      <th>nombre</th>\n",
       "      <th>exactitud</th>\n",
       "      <th>std</th>\n",
       "      <th>modelo</th>\n",
       "    </tr>\n",
       "  </thead>\n",
       "  <tbody>\n",
       "    <tr>\n",
       "      <th>0</th>\n",
       "      <td>Árbol de decisión</td>\n",
       "      <td>0.748</td>\n",
       "      <td>0.003</td>\n",
       "      <td>DecisionTreeClassifier(class_weight='balanced'...</td>\n",
       "    </tr>\n",
       "    <tr>\n",
       "      <th>1</th>\n",
       "      <td>Bagging AD</td>\n",
       "      <td>0.807</td>\n",
       "      <td>0.003</td>\n",
       "      <td>BaggingClassifier(base_estimator=DecisionTreeC...</td>\n",
       "    </tr>\n",
       "    <tr>\n",
       "      <th>2</th>\n",
       "      <td>Random Forest</td>\n",
       "      <td>0.804</td>\n",
       "      <td>0.003</td>\n",
       "      <td>RandomForestClassifier(bootstrap=True, class_w...</td>\n",
       "    </tr>\n",
       "    <tr>\n",
       "      <th>3</th>\n",
       "      <td>Extra Trees</td>\n",
       "      <td>0.803</td>\n",
       "      <td>0.012</td>\n",
       "      <td>ExtraTreesClassifier(bootstrap=False, class_we...</td>\n",
       "    </tr>\n",
       "    <tr>\n",
       "      <th>4</th>\n",
       "      <td>AdaBoostClassifier</td>\n",
       "      <td>0.812</td>\n",
       "      <td>0.010</td>\n",
       "      <td>AdaBoostClassifier(algorithm='SAMME.R',\\n     ...</td>\n",
       "    </tr>\n",
       "    <tr>\n",
       "      <th>5</th>\n",
       "      <td>GradientBoostingClassifier</td>\n",
       "      <td>0.807</td>\n",
       "      <td>0.005</td>\n",
       "      <td>GradientBoostingClassifier(criterion='friedman...</td>\n",
       "    </tr>\n",
       "    <tr>\n",
       "      <th>6</th>\n",
       "      <td>CatBoostClassifier</td>\n",
       "      <td>0.809</td>\n",
       "      <td>0.007</td>\n",
       "      <td>&lt;catboost.core.CatBoostClassifier object at 0x...</td>\n",
       "    </tr>\n",
       "    <tr>\n",
       "      <th>7</th>\n",
       "      <td>Random Forest GS</td>\n",
       "      <td>0.815</td>\n",
       "      <td>0.012</td>\n",
       "      <td>(DecisionTreeClassifier(class_weight=None, cri...</td>\n",
       "    </tr>\n",
       "    <tr>\n",
       "      <th>8</th>\n",
       "      <td>AdaBoostClassifier + RS</td>\n",
       "      <td>0.824</td>\n",
       "      <td>0.008</td>\n",
       "      <td>(DecisionTreeClassifier(class_weight=None, cri...</td>\n",
       "    </tr>\n",
       "    <tr>\n",
       "      <th>9</th>\n",
       "      <td>GradientBoostingClassifier + GS</td>\n",
       "      <td>0.815</td>\n",
       "      <td>0.008</td>\n",
       "      <td>([DecisionTreeRegressor(criterion='friedman_ms...</td>\n",
       "    </tr>\n",
       "    <tr>\n",
       "      <th>10</th>\n",
       "      <td>CatBoostClassifier + RS</td>\n",
       "      <td>0.819</td>\n",
       "      <td>0.005</td>\n",
       "      <td>&lt;catboost.core.CatBoostClassifier object at 0x...</td>\n",
       "    </tr>\n",
       "  </tbody>\n",
       "</table>\n",
       "</div>"
      ],
      "text/plain": [
       "                             nombre  exactitud    std  \\\n",
       "0                 Árbol de decisión      0.748  0.003   \n",
       "1                        Bagging AD      0.807  0.003   \n",
       "2                     Random Forest      0.804  0.003   \n",
       "3                       Extra Trees      0.803  0.012   \n",
       "4                AdaBoostClassifier      0.812  0.010   \n",
       "5        GradientBoostingClassifier      0.807  0.005   \n",
       "6                CatBoostClassifier      0.809  0.007   \n",
       "7                  Random Forest GS      0.815  0.012   \n",
       "8           AdaBoostClassifier + RS      0.824  0.008   \n",
       "9   GradientBoostingClassifier + GS      0.815  0.008   \n",
       "10          CatBoostClassifier + RS      0.819  0.005   \n",
       "\n",
       "                                               modelo  \n",
       "0   DecisionTreeClassifier(class_weight='balanced'...  \n",
       "1   BaggingClassifier(base_estimator=DecisionTreeC...  \n",
       "2   RandomForestClassifier(bootstrap=True, class_w...  \n",
       "3   ExtraTreesClassifier(bootstrap=False, class_we...  \n",
       "4   AdaBoostClassifier(algorithm='SAMME.R',\\n     ...  \n",
       "5   GradientBoostingClassifier(criterion='friedman...  \n",
       "6   <catboost.core.CatBoostClassifier object at 0x...  \n",
       "7   (DecisionTreeClassifier(class_weight=None, cri...  \n",
       "8   (DecisionTreeClassifier(class_weight=None, cri...  \n",
       "9   ([DecisionTreeRegressor(criterion='friedman_ms...  \n",
       "10  <catboost.core.CatBoostClassifier object at 0x...  "
      ]
     },
     "execution_count": 23,
     "metadata": {},
     "output_type": "execute_result"
    }
   ],
   "source": [
    "# Vemos los resultados para las distintas corridas con datos de entrenamiento\n",
    "df_rendimientos = pd.DataFrame(lista_rend)\n",
    "df_rendimiento = df_rendimientos[['nombre', 'exactitud', 'std', 'modelo']]\n",
    "df_rendimiento"
   ]
  },
  {
   "cell_type": "markdown",
   "metadata": {},
   "source": [
    "## 4. Evaluamos el Rendimiento con Datos de Prueba (Testeo)"
   ]
  },
  {
   "cell_type": "code",
   "execution_count": 24,
   "metadata": {},
   "outputs": [],
   "source": [
    "from sklearn.metrics import classification_report\n",
    "from sklearn.metrics import confusion_matrix, accuracy_score\n",
    "from sklearn.preprocessing import binarize\n",
    "import matplotlib.pyplot as plt\n",
    "%matplotlib inline\n",
    "import seaborn as sns"
   ]
  },
  {
   "cell_type": "code",
   "execution_count": 25,
   "metadata": {},
   "outputs": [],
   "source": [
    "# Definimos una función para encontrar el umbral óptimo dada nuestra funcion de costos\n",
    "def evaluar_umbral (corrida, modelo, nombre, y_proba):\n",
    "    lista_umbrales = []\n",
    "    for i in np.arange(0,0.55,.05):\n",
    "        y_pred = binarize(y_proba, i)[:,1]\n",
    "        confusion = confusion_matrix(y_test,y_pred)\n",
    "        TP = confusion[1, 1]\n",
    "        TN = confusion[0, 0]\n",
    "        FP = confusion[0, 1]\n",
    "        FN = confusion[1, 0]\n",
    "        total = TP + TN + FP + FN\n",
    "        recall = round(TP/(TP+FN),3) * 100\n",
    "        precision = round(TP/(TP+FP),3) * 100\n",
    "        cost_fn = round(FP/total * .249 + FN/total,3)*100\n",
    "        nueva_mora = round(FN/total,3) * 100\n",
    "        exactitud = round((TN + TP) / total, 3) * 100\n",
    "        lista_umbrales.append({'corrida': corrida, 'umbral': i,  \n",
    "             'nueva_mora (FN)':nueva_mora, 'cost_fn': cost_fn,\n",
    "             'recall':recall, 'precision':precision, 'exactitud': exactitud,\n",
    "             'modelo': modelo, 'nombre':nombre})\n",
    "    return lista_umbrales\n",
    "    #print ('Umbral = {0:.2f} Cost_fn = {1:.3f}'.format(i, cost_fn))"
   ]
  },
  {
   "cell_type": "code",
   "execution_count": 26,
   "metadata": {},
   "outputs": [],
   "source": [
    "# Definimos una función para evaluar resultados con datos de testeo\n",
    "lista_testeo = []\n",
    "def evaluar_testeo(corrida, modelo, nombre, X_test, y_test):\n",
    "    modelo.fit(X_train, y_train) # Hacemos Fit del Modelo\n",
    "    y_proba = modelo.predict_proba(X_test) # Obtenemos las probab. de clasificación\n",
    "    lista_testeo.append(evaluar_umbral(corrida, modelo, nombre, y_proba))"
   ]
  },
  {
   "cell_type": "code",
   "execution_count": 68,
   "metadata": {},
   "outputs": [
    {
     "name": "stdout",
     "output_type": "stream",
     "text": [
      "0:\tlearn: 0.6550638\ttotal: 38.2ms\tremaining: 19.1s\n",
      "1:\tlearn: 0.6172741\ttotal: 70.8ms\tremaining: 17.6s\n",
      "2:\tlearn: 0.5931924\ttotal: 102ms\tremaining: 16.8s\n",
      "3:\tlearn: 0.5701786\ttotal: 132ms\tremaining: 16.4s\n",
      "4:\tlearn: 0.5500003\ttotal: 166ms\tremaining: 16.5s\n",
      "5:\tlearn: 0.5361551\ttotal: 207ms\tremaining: 17.1s\n",
      "6:\tlearn: 0.5227472\ttotal: 244ms\tremaining: 17.2s\n",
      "7:\tlearn: 0.5116456\ttotal: 312ms\tremaining: 19.2s\n",
      "8:\tlearn: 0.5029847\ttotal: 345ms\tremaining: 18.8s\n",
      "9:\tlearn: 0.4964225\ttotal: 379ms\tremaining: 18.6s\n",
      "10:\tlearn: 0.4912257\ttotal: 412ms\tremaining: 18.3s\n",
      "11:\tlearn: 0.4850005\ttotal: 450ms\tremaining: 18.3s\n",
      "12:\tlearn: 0.4828387\ttotal: 505ms\tremaining: 18.9s\n",
      "13:\tlearn: 0.4793549\ttotal: 540ms\tremaining: 18.8s\n",
      "14:\tlearn: 0.4763018\ttotal: 576ms\tremaining: 18.6s\n",
      "15:\tlearn: 0.4718675\ttotal: 609ms\tremaining: 18.4s\n",
      "16:\tlearn: 0.4692204\ttotal: 642ms\tremaining: 18.2s\n",
      "17:\tlearn: 0.4669271\ttotal: 711ms\tremaining: 19s\n",
      "18:\tlearn: 0.4643667\ttotal: 745ms\tremaining: 18.8s\n",
      "19:\tlearn: 0.4618929\ttotal: 776ms\tremaining: 18.6s\n",
      "20:\tlearn: 0.4599340\ttotal: 812ms\tremaining: 18.5s\n",
      "21:\tlearn: 0.4588485\ttotal: 845ms\tremaining: 18.3s\n",
      "22:\tlearn: 0.4581745\ttotal: 876ms\tremaining: 18.2s\n",
      "23:\tlearn: 0.4562622\ttotal: 908ms\tremaining: 18s\n",
      "24:\tlearn: 0.4546552\ttotal: 976ms\tremaining: 18.5s\n",
      "25:\tlearn: 0.4518231\ttotal: 1.01s\tremaining: 18.4s\n",
      "26:\tlearn: 0.4501145\ttotal: 1.04s\tremaining: 18.3s\n",
      "27:\tlearn: 0.4495258\ttotal: 1.07s\tremaining: 18.1s\n",
      "28:\tlearn: 0.4474215\ttotal: 1.11s\tremaining: 18s\n",
      "29:\tlearn: 0.4457455\ttotal: 1.15s\tremaining: 18s\n",
      "30:\tlearn: 0.4449402\ttotal: 1.29s\tremaining: 19.5s\n",
      "31:\tlearn: 0.4433429\ttotal: 1.33s\tremaining: 19.4s\n",
      "32:\tlearn: 0.4426732\ttotal: 1.36s\tremaining: 19.3s\n",
      "33:\tlearn: 0.4420685\ttotal: 1.39s\tremaining: 19.1s\n",
      "34:\tlearn: 0.4415044\ttotal: 1.43s\tremaining: 19s\n",
      "35:\tlearn: 0.4412195\ttotal: 1.46s\tremaining: 18.8s\n",
      "36:\tlearn: 0.4401406\ttotal: 1.52s\tremaining: 19s\n",
      "37:\tlearn: 0.4387735\ttotal: 1.56s\tremaining: 19s\n",
      "38:\tlearn: 0.4379240\ttotal: 1.59s\tremaining: 18.9s\n",
      "39:\tlearn: 0.4371198\ttotal: 1.63s\tremaining: 18.7s\n",
      "40:\tlearn: 0.4364418\ttotal: 1.66s\tremaining: 18.6s\n",
      "41:\tlearn: 0.4356298\ttotal: 1.7s\tremaining: 18.5s\n",
      "42:\tlearn: 0.4339931\ttotal: 1.77s\tremaining: 18.9s\n",
      "43:\tlearn: 0.4332564\ttotal: 1.81s\tremaining: 18.7s\n",
      "44:\tlearn: 0.4325212\ttotal: 1.84s\tremaining: 18.7s\n",
      "45:\tlearn: 0.4322124\ttotal: 1.88s\tremaining: 18.5s\n",
      "46:\tlearn: 0.4315243\ttotal: 1.91s\tremaining: 18.4s\n",
      "47:\tlearn: 0.4311912\ttotal: 1.94s\tremaining: 18.3s\n",
      "48:\tlearn: 0.4305548\ttotal: 1.98s\tremaining: 18.2s\n",
      "49:\tlearn: 0.4296036\ttotal: 2.05s\tremaining: 18.4s\n",
      "50:\tlearn: 0.4288820\ttotal: 2.08s\tremaining: 18.3s\n",
      "51:\tlearn: 0.4280773\ttotal: 2.12s\tremaining: 18.2s\n",
      "52:\tlearn: 0.4273245\ttotal: 2.15s\tremaining: 18.2s\n",
      "53:\tlearn: 0.4271778\ttotal: 2.19s\tremaining: 18.1s\n",
      "54:\tlearn: 0.4265894\ttotal: 2.25s\tremaining: 18.2s\n",
      "55:\tlearn: 0.4263264\ttotal: 2.29s\tremaining: 18.1s\n",
      "56:\tlearn: 0.4262012\ttotal: 2.32s\tremaining: 18s\n",
      "57:\tlearn: 0.4258651\ttotal: 2.35s\tremaining: 17.9s\n",
      "58:\tlearn: 0.4257227\ttotal: 2.38s\tremaining: 17.8s\n",
      "59:\tlearn: 0.4250248\ttotal: 2.45s\tremaining: 18s\n",
      "60:\tlearn: 0.4237635\ttotal: 2.48s\tremaining: 17.9s\n",
      "61:\tlearn: 0.4235352\ttotal: 2.52s\tremaining: 17.8s\n",
      "62:\tlearn: 0.4224164\ttotal: 2.55s\tremaining: 17.7s\n",
      "63:\tlearn: 0.4217311\ttotal: 2.58s\tremaining: 17.6s\n",
      "64:\tlearn: 0.4211831\ttotal: 2.62s\tremaining: 17.5s\n",
      "65:\tlearn: 0.4204215\ttotal: 2.66s\tremaining: 17.5s\n",
      "66:\tlearn: 0.4200343\ttotal: 2.72s\tremaining: 17.6s\n",
      "67:\tlearn: 0.4181166\ttotal: 2.76s\tremaining: 17.5s\n",
      "68:\tlearn: 0.4175916\ttotal: 2.79s\tremaining: 17.4s\n",
      "69:\tlearn: 0.4170846\ttotal: 2.82s\tremaining: 17.3s\n",
      "70:\tlearn: 0.4164994\ttotal: 2.86s\tremaining: 17.3s\n",
      "71:\tlearn: 0.4158698\ttotal: 2.93s\tremaining: 17.4s\n",
      "72:\tlearn: 0.4146134\ttotal: 2.97s\tremaining: 17.4s\n",
      "73:\tlearn: 0.4143275\ttotal: 3s\tremaining: 17.3s\n",
      "74:\tlearn: 0.4140680\ttotal: 3.03s\tremaining: 17.2s\n",
      "75:\tlearn: 0.4123244\ttotal: 3.07s\tremaining: 17.1s\n",
      "76:\tlearn: 0.4120376\ttotal: 3.1s\tremaining: 17s\n",
      "77:\tlearn: 0.4116876\ttotal: 3.15s\tremaining: 17s\n",
      "78:\tlearn: 0.4108729\ttotal: 3.2s\tremaining: 17.1s\n",
      "79:\tlearn: 0.4105693\ttotal: 3.24s\tremaining: 17s\n",
      "80:\tlearn: 0.4102656\ttotal: 3.27s\tremaining: 16.9s\n",
      "81:\tlearn: 0.4087734\ttotal: 3.31s\tremaining: 16.9s\n",
      "82:\tlearn: 0.4073220\ttotal: 3.35s\tremaining: 16.8s\n",
      "83:\tlearn: 0.4068372\ttotal: 3.41s\tremaining: 16.9s\n",
      "84:\tlearn: 0.4055449\ttotal: 3.44s\tremaining: 16.8s\n",
      "85:\tlearn: 0.4035773\ttotal: 3.48s\tremaining: 16.8s\n",
      "86:\tlearn: 0.4034235\ttotal: 3.51s\tremaining: 16.7s\n",
      "87:\tlearn: 0.4027769\ttotal: 3.55s\tremaining: 16.6s\n",
      "88:\tlearn: 0.4026916\ttotal: 3.61s\tremaining: 16.7s\n",
      "89:\tlearn: 0.4020672\ttotal: 3.65s\tremaining: 16.6s\n",
      "90:\tlearn: 0.4015750\ttotal: 3.68s\tremaining: 16.5s\n",
      "91:\tlearn: 0.3992912\ttotal: 3.71s\tremaining: 16.5s\n",
      "92:\tlearn: 0.3981055\ttotal: 3.75s\tremaining: 16.4s\n",
      "93:\tlearn: 0.3972951\ttotal: 3.79s\tremaining: 16.4s\n",
      "94:\tlearn: 0.3960187\ttotal: 3.86s\tremaining: 16.5s\n",
      "95:\tlearn: 0.3954128\ttotal: 3.9s\tremaining: 16.4s\n",
      "96:\tlearn: 0.3949262\ttotal: 3.93s\tremaining: 16.3s\n",
      "97:\tlearn: 0.3945564\ttotal: 3.97s\tremaining: 16.3s\n",
      "98:\tlearn: 0.3937737\ttotal: 4s\tremaining: 16.2s\n",
      "99:\tlearn: 0.3935292\ttotal: 4.04s\tremaining: 16.1s\n",
      "100:\tlearn: 0.3919961\ttotal: 4.09s\tremaining: 16.2s\n",
      "101:\tlearn: 0.3905213\ttotal: 4.14s\tremaining: 16.2s\n",
      "102:\tlearn: 0.3900211\ttotal: 4.18s\tremaining: 16.1s\n",
      "103:\tlearn: 0.3898183\ttotal: 4.21s\tremaining: 16s\n",
      "104:\tlearn: 0.3895358\ttotal: 4.26s\tremaining: 16s\n",
      "105:\tlearn: 0.3891599\ttotal: 4.29s\tremaining: 16s\n",
      "106:\tlearn: 0.3873671\ttotal: 4.36s\tremaining: 16s\n",
      "107:\tlearn: 0.3867053\ttotal: 4.39s\tremaining: 15.9s\n",
      "108:\tlearn: 0.3839820\ttotal: 4.43s\tremaining: 15.9s\n",
      "109:\tlearn: 0.3832257\ttotal: 4.46s\tremaining: 15.8s\n",
      "110:\tlearn: 0.3798187\ttotal: 4.5s\tremaining: 15.8s\n",
      "111:\tlearn: 0.3790549\ttotal: 4.54s\tremaining: 15.7s\n",
      "112:\tlearn: 0.3781700\ttotal: 4.62s\tremaining: 15.8s\n",
      "113:\tlearn: 0.3777518\ttotal: 4.66s\tremaining: 15.8s\n",
      "114:\tlearn: 0.3765135\ttotal: 4.7s\tremaining: 15.7s\n",
      "115:\tlearn: 0.3757782\ttotal: 4.74s\tremaining: 15.7s\n",
      "116:\tlearn: 0.3748645\ttotal: 4.78s\tremaining: 15.6s\n",
      "117:\tlearn: 0.3746510\ttotal: 4.81s\tremaining: 15.6s\n",
      "118:\tlearn: 0.3744884\ttotal: 4.86s\tremaining: 15.6s\n",
      "119:\tlearn: 0.3737466\ttotal: 4.89s\tremaining: 15.5s\n",
      "120:\tlearn: 0.3732393\ttotal: 4.93s\tremaining: 15.4s\n",
      "121:\tlearn: 0.3720442\ttotal: 4.97s\tremaining: 15.4s\n",
      "122:\tlearn: 0.3711777\ttotal: 5s\tremaining: 15.3s\n",
      "123:\tlearn: 0.3706690\ttotal: 5.04s\tremaining: 15.3s\n",
      "124:\tlearn: 0.3704981\ttotal: 5.09s\tremaining: 15.3s\n",
      "125:\tlearn: 0.3701650\ttotal: 5.12s\tremaining: 15.2s\n",
      "126:\tlearn: 0.3695459\ttotal: 5.16s\tremaining: 15.1s\n",
      "127:\tlearn: 0.3691551\ttotal: 5.19s\tremaining: 15.1s\n",
      "128:\tlearn: 0.3682275\ttotal: 5.23s\tremaining: 15s\n",
      "129:\tlearn: 0.3677903\ttotal: 5.27s\tremaining: 15s\n",
      "130:\tlearn: 0.3669522\ttotal: 5.33s\tremaining: 15s\n",
      "131:\tlearn: 0.3659630\ttotal: 5.36s\tremaining: 15s\n",
      "132:\tlearn: 0.3653275\ttotal: 5.4s\tremaining: 14.9s\n",
      "133:\tlearn: 0.3636095\ttotal: 5.43s\tremaining: 14.8s\n",
      "134:\tlearn: 0.3633377\ttotal: 5.47s\tremaining: 14.8s\n",
      "135:\tlearn: 0.3629663\ttotal: 5.5s\tremaining: 14.7s\n",
      "136:\tlearn: 0.3622787\ttotal: 5.54s\tremaining: 14.7s\n",
      "137:\tlearn: 0.3620277\ttotal: 5.58s\tremaining: 14.6s\n",
      "138:\tlearn: 0.3613033\ttotal: 5.62s\tremaining: 14.6s\n",
      "139:\tlearn: 0.3605623\ttotal: 5.66s\tremaining: 14.5s\n",
      "140:\tlearn: 0.3603438\ttotal: 5.69s\tremaining: 14.5s\n",
      "141:\tlearn: 0.3593172\ttotal: 5.73s\tremaining: 14.4s\n",
      "142:\tlearn: 0.3591290\ttotal: 5.79s\tremaining: 14.4s\n",
      "143:\tlearn: 0.3586335\ttotal: 5.82s\tremaining: 14.4s\n",
      "144:\tlearn: 0.3583537\ttotal: 5.86s\tremaining: 14.3s\n",
      "145:\tlearn: 0.3580269\ttotal: 5.89s\tremaining: 14.3s\n",
      "146:\tlearn: 0.3578674\ttotal: 6.01s\tremaining: 14.4s\n",
      "147:\tlearn: 0.3573455\ttotal: 6.13s\tremaining: 14.6s\n",
      "148:\tlearn: 0.3565989\ttotal: 6.25s\tremaining: 14.7s\n",
      "149:\tlearn: 0.3552048\ttotal: 6.45s\tremaining: 15.1s\n",
      "150:\tlearn: 0.3548625\ttotal: 6.62s\tremaining: 15.3s\n",
      "151:\tlearn: 0.3538101\ttotal: 6.81s\tremaining: 15.6s\n",
      "152:\tlearn: 0.3533305\ttotal: 6.91s\tremaining: 15.7s\n",
      "153:\tlearn: 0.3529682\ttotal: 7.04s\tremaining: 15.8s\n",
      "154:\tlearn: 0.3520433\ttotal: 7.18s\tremaining: 16s\n",
      "155:\tlearn: 0.3514637\ttotal: 7.33s\tremaining: 16.2s\n",
      "156:\tlearn: 0.3508018\ttotal: 7.5s\tremaining: 16.4s\n",
      "157:\tlearn: 0.3498735\ttotal: 7.56s\tremaining: 16.4s\n",
      "158:\tlearn: 0.3493740\ttotal: 7.67s\tremaining: 16.5s\n",
      "159:\tlearn: 0.3492166\ttotal: 7.85s\tremaining: 16.7s\n",
      "160:\tlearn: 0.3490848\ttotal: 7.96s\tremaining: 16.8s\n"
     ]
    },
    {
     "name": "stdout",
     "output_type": "stream",
     "text": [
      "161:\tlearn: 0.3485007\ttotal: 8.08s\tremaining: 16.9s\n",
      "162:\tlearn: 0.3479040\ttotal: 8.18s\tremaining: 16.9s\n",
      "163:\tlearn: 0.3470015\ttotal: 8.22s\tremaining: 16.8s\n",
      "164:\tlearn: 0.3467266\ttotal: 8.25s\tremaining: 16.8s\n",
      "165:\tlearn: 0.3465426\ttotal: 8.31s\tremaining: 16.7s\n",
      "166:\tlearn: 0.3462805\ttotal: 8.35s\tremaining: 16.7s\n",
      "167:\tlearn: 0.3460171\ttotal: 8.38s\tremaining: 16.6s\n",
      "168:\tlearn: 0.3455833\ttotal: 8.42s\tremaining: 16.5s\n",
      "169:\tlearn: 0.3454253\ttotal: 8.46s\tremaining: 16.4s\n",
      "170:\tlearn: 0.3446039\ttotal: 8.55s\tremaining: 16.5s\n",
      "171:\tlearn: 0.3444539\ttotal: 8.58s\tremaining: 16.4s\n",
      "172:\tlearn: 0.3440387\ttotal: 8.65s\tremaining: 16.4s\n",
      "173:\tlearn: 0.3438346\ttotal: 8.78s\tremaining: 16.4s\n",
      "174:\tlearn: 0.3437279\ttotal: 8.89s\tremaining: 16.5s\n",
      "175:\tlearn: 0.3435179\ttotal: 9.01s\tremaining: 16.6s\n",
      "176:\tlearn: 0.3433574\ttotal: 9.14s\tremaining: 16.7s\n",
      "177:\tlearn: 0.3430805\ttotal: 9.26s\tremaining: 16.8s\n",
      "178:\tlearn: 0.3428365\ttotal: 9.48s\tremaining: 17s\n",
      "179:\tlearn: 0.3426633\ttotal: 9.68s\tremaining: 17.2s\n",
      "180:\tlearn: 0.3413900\ttotal: 9.75s\tremaining: 17.2s\n",
      "181:\tlearn: 0.3401849\ttotal: 9.79s\tremaining: 17.1s\n",
      "182:\tlearn: 0.3400578\ttotal: 9.82s\tremaining: 17s\n",
      "183:\tlearn: 0.3399667\ttotal: 9.86s\tremaining: 16.9s\n",
      "184:\tlearn: 0.3397695\ttotal: 9.93s\tremaining: 16.9s\n",
      "185:\tlearn: 0.3396016\ttotal: 10s\tremaining: 17s\n",
      "186:\tlearn: 0.3390692\ttotal: 10.2s\tremaining: 17s\n",
      "187:\tlearn: 0.3387392\ttotal: 10.3s\tremaining: 17.1s\n",
      "188:\tlearn: 0.3385743\ttotal: 10.4s\tremaining: 17.2s\n",
      "189:\tlearn: 0.3377583\ttotal: 10.6s\tremaining: 17.3s\n",
      "190:\tlearn: 0.3372817\ttotal: 10.7s\tremaining: 17.3s\n",
      "191:\tlearn: 0.3368925\ttotal: 10.8s\tremaining: 17.3s\n",
      "192:\tlearn: 0.3366404\ttotal: 11s\tremaining: 17.4s\n",
      "193:\tlearn: 0.3362699\ttotal: 11.1s\tremaining: 17.5s\n",
      "194:\tlearn: 0.3357730\ttotal: 11.2s\tremaining: 17.5s\n",
      "195:\tlearn: 0.3350808\ttotal: 11.3s\tremaining: 17.5s\n",
      "196:\tlearn: 0.3349133\ttotal: 11.4s\tremaining: 17.6s\n",
      "197:\tlearn: 0.3346863\ttotal: 11.5s\tremaining: 17.6s\n",
      "198:\tlearn: 0.3345206\ttotal: 11.7s\tremaining: 17.6s\n",
      "199:\tlearn: 0.3342172\ttotal: 11.8s\tremaining: 17.7s\n",
      "200:\tlearn: 0.3335178\ttotal: 11.9s\tremaining: 17.7s\n",
      "201:\tlearn: 0.3326192\ttotal: 12.1s\tremaining: 17.8s\n",
      "202:\tlearn: 0.3323134\ttotal: 12.2s\tremaining: 17.8s\n",
      "203:\tlearn: 0.3322267\ttotal: 12.3s\tremaining: 17.8s\n",
      "204:\tlearn: 0.3313231\ttotal: 12.4s\tremaining: 17.9s\n",
      "205:\tlearn: 0.3310516\ttotal: 12.5s\tremaining: 17.9s\n",
      "206:\tlearn: 0.3309638\ttotal: 12.6s\tremaining: 17.9s\n",
      "207:\tlearn: 0.3300769\ttotal: 12.7s\tremaining: 17.8s\n",
      "208:\tlearn: 0.3299971\ttotal: 12.8s\tremaining: 17.8s\n",
      "209:\tlearn: 0.3299256\ttotal: 12.8s\tremaining: 17.7s\n",
      "210:\tlearn: 0.3293985\ttotal: 12.9s\tremaining: 17.6s\n",
      "211:\tlearn: 0.3291873\ttotal: 13.6s\tremaining: 18.5s\n",
      "212:\tlearn: 0.3283598\ttotal: 13.8s\tremaining: 18.6s\n",
      "213:\tlearn: 0.3279642\ttotal: 13.9s\tremaining: 18.6s\n",
      "214:\tlearn: 0.3268806\ttotal: 14s\tremaining: 18.6s\n",
      "215:\tlearn: 0.3266232\ttotal: 14.1s\tremaining: 18.6s\n",
      "216:\tlearn: 0.3263367\ttotal: 14.2s\tremaining: 18.6s\n",
      "217:\tlearn: 0.3259772\ttotal: 14.3s\tremaining: 18.4s\n",
      "218:\tlearn: 0.3258344\ttotal: 14.3s\tremaining: 18.4s\n",
      "219:\tlearn: 0.3255595\ttotal: 14.3s\tremaining: 18.2s\n",
      "220:\tlearn: 0.3251762\ttotal: 14.4s\tremaining: 18.2s\n",
      "221:\tlearn: 0.3247770\ttotal: 14.5s\tremaining: 18.1s\n",
      "222:\tlearn: 0.3244890\ttotal: 14.5s\tremaining: 18s\n",
      "223:\tlearn: 0.3239219\ttotal: 14.5s\tremaining: 17.9s\n",
      "224:\tlearn: 0.3227463\ttotal: 14.6s\tremaining: 17.8s\n",
      "225:\tlearn: 0.3223576\ttotal: 14.7s\tremaining: 17.8s\n",
      "226:\tlearn: 0.3222061\ttotal: 14.9s\tremaining: 17.9s\n",
      "227:\tlearn: 0.3220502\ttotal: 15s\tremaining: 17.9s\n",
      "228:\tlearn: 0.3219558\ttotal: 15.5s\tremaining: 18.3s\n",
      "229:\tlearn: 0.3213513\ttotal: 15.7s\tremaining: 18.4s\n",
      "230:\tlearn: 0.3204444\ttotal: 15.8s\tremaining: 18.4s\n",
      "231:\tlearn: 0.3199480\ttotal: 16s\tremaining: 18.5s\n",
      "232:\tlearn: 0.3195095\ttotal: 16.1s\tremaining: 18.5s\n",
      "233:\tlearn: 0.3194178\ttotal: 16.2s\tremaining: 18.4s\n",
      "234:\tlearn: 0.3193044\ttotal: 16.2s\tremaining: 18.3s\n",
      "235:\tlearn: 0.3191952\ttotal: 16.3s\tremaining: 18.2s\n",
      "236:\tlearn: 0.3185923\ttotal: 16.3s\tremaining: 18.1s\n",
      "237:\tlearn: 0.3181931\ttotal: 16.3s\tremaining: 18s\n",
      "238:\tlearn: 0.3179382\ttotal: 16.4s\tremaining: 17.9s\n",
      "239:\tlearn: 0.3177417\ttotal: 16.4s\tremaining: 17.8s\n",
      "240:\tlearn: 0.3170496\ttotal: 16.5s\tremaining: 17.7s\n",
      "241:\tlearn: 0.3165161\ttotal: 16.5s\tremaining: 17.6s\n",
      "242:\tlearn: 0.3161379\ttotal: 16.5s\tremaining: 17.5s\n",
      "243:\tlearn: 0.3155664\ttotal: 16.6s\tremaining: 17.4s\n",
      "244:\tlearn: 0.3154653\ttotal: 16.6s\tremaining: 17.3s\n",
      "245:\tlearn: 0.3152767\ttotal: 16.7s\tremaining: 17.2s\n",
      "246:\tlearn: 0.3149990\ttotal: 16.8s\tremaining: 17.2s\n",
      "247:\tlearn: 0.3147973\ttotal: 16.9s\tremaining: 17.1s\n",
      "248:\tlearn: 0.3146271\ttotal: 16.9s\tremaining: 17s\n",
      "249:\tlearn: 0.3145495\ttotal: 16.9s\tremaining: 16.9s\n",
      "250:\tlearn: 0.3143631\ttotal: 17s\tremaining: 16.8s\n",
      "251:\tlearn: 0.3142344\ttotal: 17s\tremaining: 16.8s\n",
      "252:\tlearn: 0.3132160\ttotal: 17.1s\tremaining: 16.7s\n",
      "253:\tlearn: 0.3131238\ttotal: 17.2s\tremaining: 16.7s\n",
      "254:\tlearn: 0.3129321\ttotal: 17.3s\tremaining: 16.6s\n",
      "255:\tlearn: 0.3127494\ttotal: 17.4s\tremaining: 16.5s\n",
      "256:\tlearn: 0.3126731\ttotal: 17.4s\tremaining: 16.5s\n",
      "257:\tlearn: 0.3125636\ttotal: 17.4s\tremaining: 16.4s\n",
      "258:\tlearn: 0.3124703\ttotal: 17.5s\tremaining: 16.3s\n",
      "259:\tlearn: 0.3122183\ttotal: 17.6s\tremaining: 16.3s\n",
      "260:\tlearn: 0.3118489\ttotal: 17.8s\tremaining: 16.3s\n",
      "261:\tlearn: 0.3106811\ttotal: 17.9s\tremaining: 16.3s\n",
      "262:\tlearn: 0.3102396\ttotal: 18s\tremaining: 16.3s\n",
      "263:\tlearn: 0.3098476\ttotal: 18.1s\tremaining: 16.2s\n",
      "264:\tlearn: 0.3096609\ttotal: 18.2s\tremaining: 16.1s\n",
      "265:\tlearn: 0.3095821\ttotal: 18.2s\tremaining: 16s\n",
      "266:\tlearn: 0.3093016\ttotal: 18.2s\tremaining: 15.9s\n",
      "267:\tlearn: 0.3088585\ttotal: 18.3s\tremaining: 15.8s\n",
      "268:\tlearn: 0.3077335\ttotal: 18.3s\tremaining: 15.7s\n",
      "269:\tlearn: 0.3071307\ttotal: 18.3s\tremaining: 15.6s\n",
      "270:\tlearn: 0.3070898\ttotal: 18.4s\tremaining: 15.5s\n",
      "271:\tlearn: 0.3061092\ttotal: 18.5s\tremaining: 15.5s\n",
      "272:\tlearn: 0.3056388\ttotal: 18.6s\tremaining: 15.5s\n",
      "273:\tlearn: 0.3048704\ttotal: 18.8s\tremaining: 15.5s\n",
      "274:\tlearn: 0.3045185\ttotal: 18.9s\tremaining: 15.5s\n",
      "275:\tlearn: 0.3044604\ttotal: 19s\tremaining: 15.4s\n",
      "276:\tlearn: 0.3043499\ttotal: 19.1s\tremaining: 15.4s\n",
      "277:\tlearn: 0.3041217\ttotal: 19.3s\tremaining: 15.4s\n",
      "278:\tlearn: 0.3036198\ttotal: 19.4s\tremaining: 15.3s\n",
      "279:\tlearn: 0.3035312\ttotal: 19.5s\tremaining: 15.3s\n",
      "280:\tlearn: 0.3034529\ttotal: 19.6s\tremaining: 15.3s\n",
      "281:\tlearn: 0.3032997\ttotal: 19.7s\tremaining: 15.3s\n",
      "282:\tlearn: 0.3030840\ttotal: 19.9s\tremaining: 15.2s\n",
      "283:\tlearn: 0.3029028\ttotal: 19.9s\tremaining: 15.2s\n",
      "284:\tlearn: 0.3024196\ttotal: 20s\tremaining: 15.1s\n",
      "285:\tlearn: 0.3022587\ttotal: 20s\tremaining: 15s\n",
      "286:\tlearn: 0.3021626\ttotal: 20s\tremaining: 14.9s\n",
      "287:\tlearn: 0.3020398\ttotal: 20.1s\tremaining: 14.8s\n",
      "288:\tlearn: 0.3019613\ttotal: 20.1s\tremaining: 14.7s\n",
      "289:\tlearn: 0.3018898\ttotal: 20.2s\tremaining: 14.6s\n",
      "290:\tlearn: 0.3018425\ttotal: 20.2s\tremaining: 14.5s\n",
      "291:\tlearn: 0.3013393\ttotal: 20.2s\tremaining: 14.4s\n",
      "292:\tlearn: 0.3011288\ttotal: 20.3s\tremaining: 14.3s\n",
      "293:\tlearn: 0.3009271\ttotal: 20.3s\tremaining: 14.3s\n",
      "294:\tlearn: 0.3006270\ttotal: 20.5s\tremaining: 14.2s\n",
      "295:\tlearn: 0.3005178\ttotal: 20.6s\tremaining: 14.2s\n",
      "296:\tlearn: 0.3000244\ttotal: 20.7s\tremaining: 14.2s\n",
      "297:\tlearn: 0.2999755\ttotal: 20.8s\tremaining: 14.1s\n",
      "298:\tlearn: 0.2999311\ttotal: 20.9s\tremaining: 14.1s\n",
      "299:\tlearn: 0.2998880\ttotal: 21.1s\tremaining: 14s\n",
      "300:\tlearn: 0.2994618\ttotal: 21.2s\tremaining: 14s\n",
      "301:\tlearn: 0.2990992\ttotal: 21.3s\tremaining: 14s\n",
      "302:\tlearn: 0.2985417\ttotal: 21.4s\tremaining: 13.9s\n",
      "303:\tlearn: 0.2984670\ttotal: 21.4s\tremaining: 13.8s\n",
      "304:\tlearn: 0.2983676\ttotal: 21.4s\tremaining: 13.7s\n",
      "305:\tlearn: 0.2981183\ttotal: 21.5s\tremaining: 13.6s\n",
      "306:\tlearn: 0.2979595\ttotal: 21.5s\tremaining: 13.5s\n",
      "307:\tlearn: 0.2974575\ttotal: 21.6s\tremaining: 13.4s\n",
      "308:\tlearn: 0.2973755\ttotal: 21.6s\tremaining: 13.3s\n",
      "309:\tlearn: 0.2971904\ttotal: 21.6s\tremaining: 13.3s\n",
      "310:\tlearn: 0.2967805\ttotal: 21.7s\tremaining: 13.2s\n",
      "311:\tlearn: 0.2965884\ttotal: 21.7s\tremaining: 13.1s\n",
      "312:\tlearn: 0.2961483\ttotal: 21.8s\tremaining: 13s\n",
      "313:\tlearn: 0.2958627\ttotal: 21.9s\tremaining: 13s\n",
      "314:\tlearn: 0.2957982\ttotal: 22s\tremaining: 12.9s\n",
      "315:\tlearn: 0.2955463\ttotal: 22.1s\tremaining: 12.8s\n",
      "316:\tlearn: 0.2952964\ttotal: 22.1s\tremaining: 12.8s\n",
      "317:\tlearn: 0.2950211\ttotal: 22.1s\tremaining: 12.7s\n",
      "318:\tlearn: 0.2947887\ttotal: 22.2s\tremaining: 12.6s\n",
      "319:\tlearn: 0.2943008\ttotal: 22.2s\tremaining: 12.5s\n"
     ]
    },
    {
     "name": "stdout",
     "output_type": "stream",
     "text": [
      "320:\tlearn: 0.2942080\ttotal: 22.3s\tremaining: 12.4s\n",
      "321:\tlearn: 0.2941451\ttotal: 22.3s\tremaining: 12.3s\n",
      "322:\tlearn: 0.2932035\ttotal: 22.4s\tremaining: 12.3s\n",
      "323:\tlearn: 0.2930870\ttotal: 22.4s\tremaining: 12.2s\n",
      "324:\tlearn: 0.2929835\ttotal: 22.5s\tremaining: 12.1s\n",
      "325:\tlearn: 0.2928326\ttotal: 22.5s\tremaining: 12s\n",
      "326:\tlearn: 0.2924674\ttotal: 22.6s\tremaining: 11.9s\n",
      "327:\tlearn: 0.2921567\ttotal: 22.6s\tremaining: 11.8s\n",
      "328:\tlearn: 0.2918304\ttotal: 22.6s\tremaining: 11.8s\n",
      "329:\tlearn: 0.2916468\ttotal: 22.7s\tremaining: 11.7s\n",
      "330:\tlearn: 0.2915087\ttotal: 22.7s\tremaining: 11.6s\n",
      "331:\tlearn: 0.2913233\ttotal: 22.7s\tremaining: 11.5s\n",
      "332:\tlearn: 0.2911957\ttotal: 22.8s\tremaining: 11.4s\n",
      "333:\tlearn: 0.2899262\ttotal: 22.9s\tremaining: 11.4s\n",
      "334:\tlearn: 0.2898195\ttotal: 23s\tremaining: 11.3s\n",
      "335:\tlearn: 0.2895699\ttotal: 23.1s\tremaining: 11.3s\n",
      "336:\tlearn: 0.2894332\ttotal: 23.2s\tremaining: 11.2s\n",
      "337:\tlearn: 0.2893722\ttotal: 23.3s\tremaining: 11.2s\n",
      "338:\tlearn: 0.2893235\ttotal: 23.4s\tremaining: 11.1s\n",
      "339:\tlearn: 0.2892739\ttotal: 23.4s\tremaining: 11s\n",
      "340:\tlearn: 0.2888697\ttotal: 23.5s\tremaining: 11s\n",
      "341:\tlearn: 0.2883708\ttotal: 23.6s\tremaining: 10.9s\n",
      "342:\tlearn: 0.2882818\ttotal: 23.6s\tremaining: 10.8s\n",
      "343:\tlearn: 0.2879971\ttotal: 23.7s\tremaining: 10.7s\n",
      "344:\tlearn: 0.2871555\ttotal: 23.7s\tremaining: 10.7s\n",
      "345:\tlearn: 0.2869814\ttotal: 23.8s\tremaining: 10.6s\n",
      "346:\tlearn: 0.2868115\ttotal: 23.9s\tremaining: 10.5s\n",
      "347:\tlearn: 0.2862038\ttotal: 23.9s\tremaining: 10.4s\n",
      "348:\tlearn: 0.2853219\ttotal: 24s\tremaining: 10.4s\n",
      "349:\tlearn: 0.2848753\ttotal: 24.1s\tremaining: 10.3s\n",
      "350:\tlearn: 0.2847419\ttotal: 24.1s\tremaining: 10.2s\n",
      "351:\tlearn: 0.2846907\ttotal: 24.2s\tremaining: 10.2s\n",
      "352:\tlearn: 0.2844434\ttotal: 24.3s\tremaining: 10.1s\n",
      "353:\tlearn: 0.2839192\ttotal: 24.4s\tremaining: 10.1s\n",
      "354:\tlearn: 0.2835649\ttotal: 24.5s\tremaining: 9.99s\n",
      "355:\tlearn: 0.2835126\ttotal: 24.6s\tremaining: 9.94s\n",
      "356:\tlearn: 0.2832871\ttotal: 24.6s\tremaining: 9.87s\n",
      "357:\tlearn: 0.2832483\ttotal: 24.7s\tremaining: 9.79s\n",
      "358:\tlearn: 0.2829269\ttotal: 24.7s\tremaining: 9.72s\n",
      "359:\tlearn: 0.2828756\ttotal: 24.8s\tremaining: 9.63s\n",
      "360:\tlearn: 0.2826838\ttotal: 24.8s\tremaining: 9.56s\n",
      "361:\tlearn: 0.2818916\ttotal: 24.9s\tremaining: 9.48s\n",
      "362:\tlearn: 0.2817551\ttotal: 24.9s\tremaining: 9.41s\n",
      "363:\tlearn: 0.2816897\ttotal: 25s\tremaining: 9.35s\n",
      "364:\tlearn: 0.2815012\ttotal: 25.1s\tremaining: 9.3s\n",
      "365:\tlearn: 0.2813931\ttotal: 25.3s\tremaining: 9.25s\n",
      "366:\tlearn: 0.2809035\ttotal: 25.4s\tremaining: 9.19s\n",
      "367:\tlearn: 0.2808039\ttotal: 25.5s\tremaining: 9.14s\n",
      "368:\tlearn: 0.2806824\ttotal: 25.6s\tremaining: 9.1s\n",
      "369:\tlearn: 0.2806356\ttotal: 25.8s\tremaining: 9.05s\n",
      "370:\tlearn: 0.2800299\ttotal: 25.9s\tremaining: 9.01s\n",
      "371:\tlearn: 0.2798897\ttotal: 26s\tremaining: 8.96s\n",
      "372:\tlearn: 0.2797937\ttotal: 26.1s\tremaining: 8.9s\n",
      "373:\tlearn: 0.2795971\ttotal: 26.3s\tremaining: 8.85s\n",
      "374:\tlearn: 0.2795370\ttotal: 26.4s\tremaining: 8.79s\n",
      "375:\tlearn: 0.2789436\ttotal: 26.5s\tremaining: 8.74s\n",
      "376:\tlearn: 0.2788828\ttotal: 26.6s\tremaining: 8.69s\n",
      "377:\tlearn: 0.2787062\ttotal: 26.7s\tremaining: 8.61s\n",
      "378:\tlearn: 0.2781619\ttotal: 26.7s\tremaining: 8.53s\n",
      "379:\tlearn: 0.2780174\ttotal: 26.8s\tremaining: 8.46s\n",
      "380:\tlearn: 0.2779406\ttotal: 26.8s\tremaining: 8.38s\n",
      "381:\tlearn: 0.2777395\ttotal: 26.9s\tremaining: 8.3s\n",
      "382:\tlearn: 0.2776842\ttotal: 26.9s\tremaining: 8.22s\n",
      "383:\tlearn: 0.2776134\ttotal: 26.9s\tremaining: 8.14s\n",
      "384:\tlearn: 0.2771701\ttotal: 27s\tremaining: 8.06s\n",
      "385:\tlearn: 0.2770124\ttotal: 27s\tremaining: 7.98s\n",
      "386:\tlearn: 0.2769804\ttotal: 27s\tremaining: 7.9s\n",
      "387:\tlearn: 0.2769293\ttotal: 27.1s\tremaining: 7.82s\n",
      "388:\tlearn: 0.2767205\ttotal: 27.1s\tremaining: 7.74s\n",
      "389:\tlearn: 0.2765667\ttotal: 27.2s\tremaining: 7.67s\n",
      "390:\tlearn: 0.2764468\ttotal: 27.2s\tremaining: 7.59s\n",
      "391:\tlearn: 0.2764121\ttotal: 27.3s\tremaining: 7.53s\n",
      "392:\tlearn: 0.2759181\ttotal: 27.4s\tremaining: 7.45s\n",
      "393:\tlearn: 0.2754020\ttotal: 27.5s\tremaining: 7.38s\n",
      "394:\tlearn: 0.2751892\ttotal: 27.5s\tremaining: 7.31s\n",
      "395:\tlearn: 0.2748857\ttotal: 27.5s\tremaining: 7.23s\n",
      "396:\tlearn: 0.2748019\ttotal: 27.6s\tremaining: 7.15s\n",
      "397:\tlearn: 0.2744726\ttotal: 27.6s\tremaining: 7.08s\n",
      "398:\tlearn: 0.2742959\ttotal: 27.7s\tremaining: 7.01s\n",
      "399:\tlearn: 0.2740718\ttotal: 27.7s\tremaining: 6.93s\n",
      "400:\tlearn: 0.2739671\ttotal: 27.8s\tremaining: 6.86s\n",
      "401:\tlearn: 0.2737077\ttotal: 27.8s\tremaining: 6.79s\n",
      "402:\tlearn: 0.2736173\ttotal: 27.9s\tremaining: 6.71s\n",
      "403:\tlearn: 0.2734283\ttotal: 28s\tremaining: 6.65s\n",
      "404:\tlearn: 0.2732576\ttotal: 28.1s\tremaining: 6.59s\n",
      "405:\tlearn: 0.2730997\ttotal: 28.1s\tremaining: 6.52s\n",
      "406:\tlearn: 0.2728717\ttotal: 28.2s\tremaining: 6.44s\n",
      "407:\tlearn: 0.2727941\ttotal: 28.2s\tremaining: 6.37s\n",
      "408:\tlearn: 0.2727076\ttotal: 28.3s\tremaining: 6.29s\n",
      "409:\tlearn: 0.2726663\ttotal: 28.3s\tremaining: 6.21s\n",
      "410:\tlearn: 0.2725981\ttotal: 28.4s\tremaining: 6.14s\n",
      "411:\tlearn: 0.2725520\ttotal: 28.4s\tremaining: 6.06s\n",
      "412:\tlearn: 0.2720154\ttotal: 28.4s\tremaining: 5.99s\n",
      "413:\tlearn: 0.2719074\ttotal: 28.5s\tremaining: 5.91s\n",
      "414:\tlearn: 0.2716401\ttotal: 28.5s\tremaining: 5.84s\n",
      "415:\tlearn: 0.2712577\ttotal: 28.5s\tremaining: 5.76s\n",
      "416:\tlearn: 0.2711242\ttotal: 28.6s\tremaining: 5.69s\n",
      "417:\tlearn: 0.2709887\ttotal: 28.6s\tremaining: 5.62s\n",
      "418:\tlearn: 0.2706828\ttotal: 28.7s\tremaining: 5.55s\n",
      "419:\tlearn: 0.2706161\ttotal: 28.7s\tremaining: 5.47s\n",
      "420:\tlearn: 0.2702922\ttotal: 28.8s\tremaining: 5.4s\n",
      "421:\tlearn: 0.2695843\ttotal: 28.8s\tremaining: 5.33s\n",
      "422:\tlearn: 0.2694216\ttotal: 28.9s\tremaining: 5.26s\n",
      "423:\tlearn: 0.2693567\ttotal: 28.9s\tremaining: 5.18s\n",
      "424:\tlearn: 0.2693052\ttotal: 29s\tremaining: 5.11s\n",
      "425:\tlearn: 0.2691005\ttotal: 29s\tremaining: 5.04s\n",
      "426:\tlearn: 0.2689968\ttotal: 29s\tremaining: 4.96s\n",
      "427:\tlearn: 0.2685733\ttotal: 29.1s\tremaining: 4.89s\n",
      "428:\tlearn: 0.2682231\ttotal: 29.1s\tremaining: 4.82s\n",
      "429:\tlearn: 0.2681451\ttotal: 29.2s\tremaining: 4.75s\n",
      "430:\tlearn: 0.2680664\ttotal: 29.2s\tremaining: 4.67s\n",
      "431:\tlearn: 0.2678470\ttotal: 29.2s\tremaining: 4.6s\n",
      "432:\tlearn: 0.2676336\ttotal: 29.3s\tremaining: 4.53s\n",
      "433:\tlearn: 0.2675831\ttotal: 29.3s\tremaining: 4.46s\n",
      "434:\tlearn: 0.2673934\ttotal: 29.4s\tremaining: 4.39s\n",
      "435:\tlearn: 0.2670826\ttotal: 29.4s\tremaining: 4.32s\n",
      "436:\tlearn: 0.2669742\ttotal: 29.4s\tremaining: 4.24s\n",
      "437:\tlearn: 0.2668501\ttotal: 29.5s\tremaining: 4.17s\n",
      "438:\tlearn: 0.2667348\ttotal: 29.5s\tremaining: 4.1s\n",
      "439:\tlearn: 0.2665085\ttotal: 29.6s\tremaining: 4.03s\n",
      "440:\tlearn: 0.2662926\ttotal: 29.6s\tremaining: 3.96s\n",
      "441:\tlearn: 0.2662441\ttotal: 29.6s\tremaining: 3.89s\n",
      "442:\tlearn: 0.2661912\ttotal: 29.7s\tremaining: 3.82s\n",
      "443:\tlearn: 0.2661313\ttotal: 29.7s\tremaining: 3.75s\n",
      "444:\tlearn: 0.2656897\ttotal: 29.7s\tremaining: 3.68s\n",
      "445:\tlearn: 0.2656130\ttotal: 29.8s\tremaining: 3.61s\n",
      "446:\tlearn: 0.2653355\ttotal: 29.9s\tremaining: 3.54s\n",
      "447:\tlearn: 0.2652448\ttotal: 29.9s\tremaining: 3.47s\n",
      "448:\tlearn: 0.2652114\ttotal: 29.9s\tremaining: 3.4s\n",
      "449:\tlearn: 0.2649640\ttotal: 30s\tremaining: 3.33s\n",
      "450:\tlearn: 0.2649169\ttotal: 30s\tremaining: 3.26s\n",
      "451:\tlearn: 0.2648577\ttotal: 30s\tremaining: 3.19s\n",
      "452:\tlearn: 0.2646645\ttotal: 30.1s\tremaining: 3.12s\n",
      "453:\tlearn: 0.2645947\ttotal: 30.1s\tremaining: 3.05s\n",
      "454:\tlearn: 0.2644961\ttotal: 30.2s\tremaining: 2.98s\n",
      "455:\tlearn: 0.2644470\ttotal: 30.2s\tremaining: 2.91s\n",
      "456:\tlearn: 0.2643698\ttotal: 30.2s\tremaining: 2.84s\n",
      "457:\tlearn: 0.2642387\ttotal: 30.3s\tremaining: 2.78s\n",
      "458:\tlearn: 0.2641538\ttotal: 30.3s\tremaining: 2.71s\n",
      "459:\tlearn: 0.2640861\ttotal: 30.3s\tremaining: 2.64s\n",
      "460:\tlearn: 0.2638141\ttotal: 30.4s\tremaining: 2.57s\n",
      "461:\tlearn: 0.2635750\ttotal: 30.4s\tremaining: 2.5s\n",
      "462:\tlearn: 0.2630784\ttotal: 30.5s\tremaining: 2.43s\n",
      "463:\tlearn: 0.2629737\ttotal: 30.5s\tremaining: 2.37s\n",
      "464:\tlearn: 0.2627175\ttotal: 30.5s\tremaining: 2.3s\n",
      "465:\tlearn: 0.2625956\ttotal: 30.6s\tremaining: 2.23s\n",
      "466:\tlearn: 0.2625435\ttotal: 30.6s\tremaining: 2.16s\n",
      "467:\tlearn: 0.2625032\ttotal: 30.6s\tremaining: 2.1s\n",
      "468:\tlearn: 0.2624283\ttotal: 30.7s\tremaining: 2.03s\n",
      "469:\tlearn: 0.2623298\ttotal: 30.7s\tremaining: 1.96s\n",
      "470:\tlearn: 0.2622821\ttotal: 30.8s\tremaining: 1.9s\n",
      "471:\tlearn: 0.2622315\ttotal: 30.8s\tremaining: 1.83s\n",
      "472:\tlearn: 0.2621268\ttotal: 30.9s\tremaining: 1.76s\n",
      "473:\tlearn: 0.2621175\ttotal: 30.9s\tremaining: 1.7s\n",
      "474:\tlearn: 0.2615726\ttotal: 31s\tremaining: 1.63s\n",
      "475:\tlearn: 0.2615017\ttotal: 31s\tremaining: 1.56s\n",
      "476:\tlearn: 0.2613084\ttotal: 31.1s\tremaining: 1.5s\n",
      "477:\tlearn: 0.2612779\ttotal: 31.1s\tremaining: 1.43s\n",
      "478:\tlearn: 0.2612562\ttotal: 31.1s\tremaining: 1.36s\n",
      "479:\tlearn: 0.2609443\ttotal: 31.2s\tremaining: 1.3s\n"
     ]
    },
    {
     "name": "stdout",
     "output_type": "stream",
     "text": [
      "480:\tlearn: 0.2608880\ttotal: 31.2s\tremaining: 1.23s\n",
      "481:\tlearn: 0.2607989\ttotal: 31.3s\tremaining: 1.17s\n",
      "482:\tlearn: 0.2607624\ttotal: 31.3s\tremaining: 1.1s\n",
      "483:\tlearn: 0.2607254\ttotal: 31.3s\tremaining: 1.03s\n",
      "484:\tlearn: 0.2605451\ttotal: 31.4s\tremaining: 970ms\n",
      "485:\tlearn: 0.2603937\ttotal: 31.4s\tremaining: 904ms\n",
      "486:\tlearn: 0.2603530\ttotal: 31.4s\tremaining: 839ms\n",
      "487:\tlearn: 0.2602422\ttotal: 31.5s\tremaining: 774ms\n",
      "488:\tlearn: 0.2600761\ttotal: 31.5s\tremaining: 709ms\n",
      "489:\tlearn: 0.2598043\ttotal: 31.5s\tremaining: 644ms\n",
      "490:\tlearn: 0.2595794\ttotal: 31.6s\tremaining: 579ms\n",
      "491:\tlearn: 0.2594745\ttotal: 31.6s\tremaining: 514ms\n",
      "492:\tlearn: 0.2590287\ttotal: 31.7s\tremaining: 450ms\n",
      "493:\tlearn: 0.2589407\ttotal: 31.7s\tremaining: 385ms\n",
      "494:\tlearn: 0.2587227\ttotal: 31.7s\tremaining: 321ms\n",
      "495:\tlearn: 0.2582821\ttotal: 31.8s\tremaining: 256ms\n",
      "496:\tlearn: 0.2579790\ttotal: 31.8s\tremaining: 192ms\n",
      "497:\tlearn: 0.2579231\ttotal: 31.9s\tremaining: 128ms\n",
      "498:\tlearn: 0.2574582\ttotal: 31.9s\tremaining: 64ms\n",
      "499:\tlearn: 0.2573873\ttotal: 32s\tremaining: 0us\n"
     ]
    }
   ],
   "source": [
    "# Verificamos el Accuracy y la Función de Costos de cada modelo con los datos de Testeo\n",
    "lista_umbrales = []\n",
    "lista_testeo = []\n",
    "evaluar_testeo(0, dt, \"Árbol de decisión\", X_test, y_test)\n",
    "evaluar_testeo(1, bdt, \"Bagging AD\", X_test, y_test)\n",
    "evaluar_testeo(2, rf, \"Random Forest\", X_test, y_test)\n",
    "evaluar_testeo(3, grid_search_rf.best_estimator_, \\\n",
    "                \"Random Forest Grid Search\", X_test, y_test)\n",
    "\n",
    "evaluar_testeo(4, et, \"Extra Trees\", X_test, y_test)\n",
    "#evaluar_testeo(5, grid_ab.best_estimator_, \\\n",
    "           #     \"AdaBoostClassifier Grid Search\", X_test, y_test)\n",
    "\n",
    "evaluar_testeo(5, rand_ab.best_estimator_, \\\n",
    "                \"AdaBoostClassifier Random Search\", X_test, y_test)\n",
    "\n",
    "evaluar_testeo(6, gb, \"GradientBoostingClassifier\", X_test, y_test)\n",
    "evaluar_testeo(7, grid_gb.best_estimator_, \\\n",
    "                \"GradientBoostingClassifier Grid Search\", X_test, y_test)\n",
    "\n",
    "evaluar_testeo(8, rand_cb.best_estimator_, \\\n",
    "               \"CatBoostClassifier Random Search\", X_test, y_test)\n",
    "#evaluar_testeo(8, grid_cb.best_estimator_, \\\n",
    "         #      \"CatBoostClassifier Grid Search\", X_test, y_test)"
   ]
  },
  {
   "cell_type": "code",
   "execution_count": 69,
   "metadata": {},
   "outputs": [],
   "source": [
    "# Generamos un DataFrame a partir de lista_testeo con los resultados de las corridas\n",
    "# de los distintos modelos con datos de testeo para distintos umbrales de probabilidad\n",
    "for i in np.arange(0, len(lista_testeo)):\n",
    "    for j in np.arange(0, len(lista_testeo[i])):                      \n",
    "        if (i == 0) & (j == 0) :\n",
    "            df_testeo = pd.DataFrame.from_records([lista_testeo[i][j]])\n",
    "        else:\n",
    "            df_testeo = df_testeo.append(pd.DataFrame.from_records(\n",
    "                [lista_testeo[i][j]]), ignore_index = True)\n",
    "            "
   ]
  },
  {
   "cell_type": "code",
   "execution_count": 70,
   "metadata": {},
   "outputs": [
    {
     "data": {
      "text/html": [
       "<div>\n",
       "<style scoped>\n",
       "    .dataframe tbody tr th:only-of-type {\n",
       "        vertical-align: middle;\n",
       "    }\n",
       "\n",
       "    .dataframe tbody tr th {\n",
       "        vertical-align: top;\n",
       "    }\n",
       "\n",
       "    .dataframe thead th {\n",
       "        text-align: right;\n",
       "    }\n",
       "</style>\n",
       "<table border=\"1\" class=\"dataframe\">\n",
       "  <thead>\n",
       "    <tr style=\"text-align: right;\">\n",
       "      <th></th>\n",
       "      <th>corrida</th>\n",
       "      <th>cost_fn</th>\n",
       "      <th>exactitud</th>\n",
       "      <th>modelo</th>\n",
       "      <th>nombre</th>\n",
       "      <th>nueva_mora (FN)</th>\n",
       "      <th>precision</th>\n",
       "      <th>recall</th>\n",
       "      <th>umbral</th>\n",
       "    </tr>\n",
       "  </thead>\n",
       "  <tbody>\n",
       "    <tr>\n",
       "      <th>0</th>\n",
       "      <td>0</td>\n",
       "      <td>14.4</td>\n",
       "      <td>76.8</td>\n",
       "      <td>DecisionTreeClassifier(class_weight='balanced'...</td>\n",
       "      <td>Árbol de decisión</td>\n",
       "      <td>11.4</td>\n",
       "      <td>43.4</td>\n",
       "      <td>44.0</td>\n",
       "      <td>0.00</td>\n",
       "    </tr>\n",
       "    <tr>\n",
       "      <th>1</th>\n",
       "      <td>0</td>\n",
       "      <td>14.4</td>\n",
       "      <td>76.8</td>\n",
       "      <td>DecisionTreeClassifier(class_weight='balanced'...</td>\n",
       "      <td>Árbol de decisión</td>\n",
       "      <td>11.4</td>\n",
       "      <td>43.4</td>\n",
       "      <td>44.0</td>\n",
       "      <td>0.05</td>\n",
       "    </tr>\n",
       "    <tr>\n",
       "      <th>2</th>\n",
       "      <td>0</td>\n",
       "      <td>14.4</td>\n",
       "      <td>76.8</td>\n",
       "      <td>DecisionTreeClassifier(class_weight='balanced'...</td>\n",
       "      <td>Árbol de decisión</td>\n",
       "      <td>11.4</td>\n",
       "      <td>43.4</td>\n",
       "      <td>44.0</td>\n",
       "      <td>0.10</td>\n",
       "    </tr>\n",
       "    <tr>\n",
       "      <th>3</th>\n",
       "      <td>0</td>\n",
       "      <td>14.4</td>\n",
       "      <td>76.8</td>\n",
       "      <td>DecisionTreeClassifier(class_weight='balanced'...</td>\n",
       "      <td>Árbol de decisión</td>\n",
       "      <td>11.4</td>\n",
       "      <td>43.4</td>\n",
       "      <td>44.0</td>\n",
       "      <td>0.15</td>\n",
       "    </tr>\n",
       "    <tr>\n",
       "      <th>4</th>\n",
       "      <td>0</td>\n",
       "      <td>14.4</td>\n",
       "      <td>76.8</td>\n",
       "      <td>DecisionTreeClassifier(class_weight='balanced'...</td>\n",
       "      <td>Árbol de decisión</td>\n",
       "      <td>11.4</td>\n",
       "      <td>43.4</td>\n",
       "      <td>44.0</td>\n",
       "      <td>0.20</td>\n",
       "    </tr>\n",
       "  </tbody>\n",
       "</table>\n",
       "</div>"
      ],
      "text/plain": [
       "   corrida  cost_fn  exactitud  \\\n",
       "0        0     14.4       76.8   \n",
       "1        0     14.4       76.8   \n",
       "2        0     14.4       76.8   \n",
       "3        0     14.4       76.8   \n",
       "4        0     14.4       76.8   \n",
       "\n",
       "                                              modelo             nombre  \\\n",
       "0  DecisionTreeClassifier(class_weight='balanced'...  Árbol de decisión   \n",
       "1  DecisionTreeClassifier(class_weight='balanced'...  Árbol de decisión   \n",
       "2  DecisionTreeClassifier(class_weight='balanced'...  Árbol de decisión   \n",
       "3  DecisionTreeClassifier(class_weight='balanced'...  Árbol de decisión   \n",
       "4  DecisionTreeClassifier(class_weight='balanced'...  Árbol de decisión   \n",
       "\n",
       "   nueva_mora (FN)  precision  recall  umbral  \n",
       "0             11.4       43.4    44.0    0.00  \n",
       "1             11.4       43.4    44.0    0.05  \n",
       "2             11.4       43.4    44.0    0.10  \n",
       "3             11.4       43.4    44.0    0.15  \n",
       "4             11.4       43.4    44.0    0.20  "
      ]
     },
     "execution_count": 70,
     "metadata": {},
     "output_type": "execute_result"
    }
   ],
   "source": [
    "df_testeo.head()"
   ]
  },
  {
   "cell_type": "markdown",
   "metadata": {},
   "source": [
    "## 5. Seleccionamos el modelo con el Umbral que maximiza la Exactitud (Accuracy)"
   ]
  },
  {
   "cell_type": "code",
   "execution_count": 71,
   "metadata": {},
   "outputs": [
    {
     "data": {
      "text/plain": [
       "87"
      ]
     },
     "execution_count": 71,
     "metadata": {},
     "output_type": "execute_result"
    }
   ],
   "source": [
    "# Identificamos el índice correspondiente al modelo con mayor Exactitud en \n",
    "# el DataFrame df_testeo\n",
    "index_modelo = df_testeo.loc[df_testeo['exactitud'] == df_testeo['exactitud'].max(), \n",
    "                               :].index[0]\n",
    "index_modelo"
   ]
  },
  {
   "cell_type": "code",
   "execution_count": 72,
   "metadata": {},
   "outputs": [
    {
     "data": {
      "text/plain": [
       "Index(['corrida', 'cost_fn', 'exactitud', 'modelo', 'nombre',\n",
       "       'nueva_mora (FN)', 'precision', 'recall', 'umbral'],\n",
       "      dtype='object')"
      ]
     },
     "execution_count": 72,
     "metadata": {},
     "output_type": "execute_result"
    }
   ],
   "source": [
    "df_testeo.columns"
   ]
  },
  {
   "cell_type": "code",
   "execution_count": 73,
   "metadata": {},
   "outputs": [
    {
     "name": "stdout",
     "output_type": "stream",
     "text": [
      "Maximizando Exactitud:\n",
      "Índice = 87\n",
      "Modelo = GradientBoostingClassifier Grid Search\n",
      "Umbral Óptimo = 0.5\n",
      "Exactitud = 83.7\n",
      "Función de Costos = 13.0\n"
     ]
    }
   ],
   "source": [
    "# Asignamos las variables al modelo elegido\n",
    "modelo_elegido = df_testeo.loc[index_modelo, \"modelo\"]\n",
    "nombre_modelo_elegido = df_testeo.loc[index_modelo, \"nombre\"]\n",
    "umbral_optimo = df_testeo.loc[index_modelo, \"umbral\"]\n",
    "y_proba = modelo_elegido.predict_proba(X_test)\n",
    "\n",
    "print ('Maximizando Exactitud:')\n",
    "print ('Índice = {}'.format(index_modelo))\n",
    "print ('Modelo = {}'.format(nombre_modelo_elegido))\n",
    "print ('Umbral Óptimo = {}'.format(umbral_optimo))\n",
    "print ('Exactitud = {}'.format(df_testeo.loc[index_modelo, \"exactitud\"]))\n",
    "print ('Función de Costos = {}'.format(df_testeo.loc[index_modelo, \"cost_fn\"]))"
   ]
  },
  {
   "cell_type": "code",
   "execution_count": 74,
   "metadata": {},
   "outputs": [
    {
     "data": {
      "text/plain": [
       "array([[0.99040533, 0.00959467],\n",
       "       [0.94330696, 0.05669304],\n",
       "       [0.98289295, 0.01710705],\n",
       "       ...,\n",
       "       [0.92199181, 0.07800819],\n",
       "       [0.63434817, 0.36565183],\n",
       "       [0.05232465, 0.94767535]])"
      ]
     },
     "execution_count": 74,
     "metadata": {},
     "output_type": "execute_result"
    }
   ],
   "source": [
    "y_proba"
   ]
  },
  {
   "cell_type": "code",
   "execution_count": 75,
   "metadata": {},
   "outputs": [],
   "source": [
    "# Seleccionamos las probabilidades de la clase y=1\n",
    "y_proba_1 = y_proba[:,1]"
   ]
  },
  {
   "cell_type": "code",
   "execution_count": 76,
   "metadata": {},
   "outputs": [
    {
     "data": {
      "image/png": "[encoded data removed]",
      "text/plain": [
       "<Figure size 432x288 with 1 Axes>"
      ]
     },
     "metadata": {
      "needs_background": "light"
     },
     "output_type": "display_data"
    }
   ],
   "source": [
    "# Vemos Histograms de Probabilidades de Clasificación P(y=1) con 15 bins\n",
    "plt.hist(y_proba_1, bins=15)\n",
    "\n",
    "# x-axis de 0 a 1\n",
    "plt.xlim(0,1)\n",
    "plt.title('Histograma de probabilidades estimadas \\n' + nombre_modelo_elegido)\n",
    "plt.xlabel('Probabilidad estimada P(y=1)')\n",
    "plt.ylabel('Frecuencia')\n",
    "plt.show()"
   ]
  },
  {
   "cell_type": "code",
   "execution_count": 77,
   "metadata": {},
   "outputs": [],
   "source": [
    "# Ahora Vemos las métricas del modelo con el Umbral Óptimo\n",
    "y_pred = binarize(y_proba, umbral_optimo)[:,1]"
   ]
  },
  {
   "cell_type": "code",
   "execution_count": 78,
   "metadata": {},
   "outputs": [
    {
     "name": "stdout",
     "output_type": "stream",
     "text": [
      "              precision    recall  f1-score   support\n",
      "\n",
      "           0       0.86      0.94      0.90       813\n",
      "           1       0.66      0.42      0.51       209\n",
      "\n",
      "   micro avg       0.84      0.84      0.84      1022\n",
      "   macro avg       0.76      0.68      0.71      1022\n",
      "weighted avg       0.82      0.84      0.82      1022\n",
      "\n"
     ]
    }
   ],
   "source": [
    "print(classification_report(y_test,y_pred))"
   ]
  },
  {
   "cell_type": "markdown",
   "metadata": {},
   "source": [
    "Interpretación Classification Report:\n",
    "- Precision = TP/(TP+FP) -> TP/\"Predice Positivo\"         [Para Valor 1]\n",
    "- Precision = TN/(TN+FN) -> TN/\"Predice Negativo\"         [Para Valor 0]\n",
    "\n",
    "\n",
    "- Recall (Sensitivity) = TP/(TP+FN) -> TP/\"Es Positivo\"   [Para Valor 1]\n",
    "- Recall (Sensitivity) = TN/(TN+FP) -> TN/\"Es Negativo\"   [Para Valor 0]\n",
    "\n"
   ]
  },
  {
   "cell_type": "code",
   "execution_count": 79,
   "metadata": {},
   "outputs": [
    {
     "data": {
      "image/png": "[encoded data removed]",
      "text/plain": [
       "<Figure size 432x288 with 2 Axes>"
      ]
     },
     "metadata": {
      "needs_background": "light"
     },
     "output_type": "display_data"
    }
   ],
   "source": [
    "# Elaboramos la matriz de confusión con el umbral que maximiza Accuracy\n",
    "confusion_matrix(y_test, y_pred)\n",
    "sns.heatmap(confusion_matrix(y_test, y_pred), annot=True, fmt = 'g')\n",
    "plt.title('Matriz Confusión Maximizando Exactitud \\n' + nombre_modelo_elegido)\n",
    "plt.ylabel('Verdaderos')\n",
    "plt.xlabel('Predichos')\n",
    "plt.savefig('chart10_matriz_confusion_max_accuracy.pdf', bbox_inches='tight', dpi=600)\n",
    "plt.show();"
   ]
  },
  {
   "cell_type": "code",
   "execution_count": 80,
   "metadata": {},
   "outputs": [
    {
     "data": {
      "text/plain": [
       "0.8365949119373777"
      ]
     },
     "execution_count": 80,
     "metadata": {},
     "output_type": "execute_result"
    }
   ],
   "source": [
    "accuracy_score(y_test,y_pred)"
   ]
  },
  {
   "cell_type": "markdown",
   "metadata": {},
   "source": [
    "## 6. Seleccionamos el modelo con el Umbral que minimiza la Función de Costos\n",
    "\n",
    "#### Función de costos:\n",
    "\n",
    "FP: \"Negocio Perdido\": el costo consiste en los interes perdidos de los potenciales clientes rechazados pero que hubieran cancelado el crédito [En promedio, el interés es el 24.9% del valor total de un crédito]\n",
    "\n",
    "FN: \"Costo de la Mora\": es el costo total incluye tanto el capital como los intereses perdidos de aquellos clientes a los que se les prestó y resultaron morosos [Representa el 100% del valor total de un crédito promedio]\n",
    "\n",
    "Por lo tanto cost_fn = FP * 0.249 + FN\n",
    "\n"
   ]
  },
  {
   "cell_type": "code",
   "execution_count": 81,
   "metadata": {},
   "outputs": [
    {
     "data": {
      "text/plain": [
       "79"
      ]
     },
     "execution_count": 81,
     "metadata": {},
     "output_type": "execute_result"
    }
   ],
   "source": [
    "# Identificamos el índice correspondiente al modelo con menor función de costos en \n",
    "# el DataFrame df_testeo\n",
    "index_modelo = df_testeo.loc[df_testeo['cost_fn'] == df_testeo['cost_fn'].min(), \n",
    "                               :].index[0]\n",
    "index_modelo"
   ]
  },
  {
   "cell_type": "code",
   "execution_count": 82,
   "metadata": {},
   "outputs": [
    {
     "name": "stdout",
     "output_type": "stream",
     "text": [
      "Minimizando Función de Costos:\n",
      "Índice = 79\n",
      "Corrida = 7\n",
      "Modelo = GradientBoostingClassifier Grid Search\n",
      "Umbral Óptimo = 0.1\n",
      "Exactitud = 75.9\n",
      "Función de Costos = 9.700000000000001\n"
     ]
    }
   ],
   "source": [
    "# Asignamos las variables al modelo elegido\n",
    "modelo_elegido = df_testeo.loc[index_modelo, \"modelo\"]\n",
    "nombre_modelo_elegido = df_testeo.loc[index_modelo, \"nombre\"]\n",
    "umbral_optimo = df_testeo.loc[index_modelo, \"umbral\"]\n",
    "corrida_modelo_elegido = df_testeo.loc[index_modelo, \"corrida\"]\n",
    "y_proba = modelo_elegido.predict_proba(X_test)\n",
    "\n",
    "print ('Minimizando Función de Costos:')\n",
    "print ('Índice = {}'.format(index_modelo))\n",
    "print ('Corrida = {}'.format(corrida_modelo_elegido))\n",
    "print ('Modelo = {}'.format(nombre_modelo_elegido))\n",
    "print ('Umbral Óptimo = {}'.format(umbral_optimo))\n",
    "print ('Exactitud = {}'.format(df_testeo.loc[index_modelo, \"exactitud\"]))\n",
    "print ('Función de Costos = {}'.format(df_testeo.loc[index_modelo, \"cost_fn\"]))"
   ]
  },
  {
   "cell_type": "code",
   "execution_count": 83,
   "metadata": {},
   "outputs": [
    {
     "data": {
      "text/plain": [
       "array([[0.99040533, 0.00959467],\n",
       "       [0.94330696, 0.05669304],\n",
       "       [0.98289295, 0.01710705],\n",
       "       ...,\n",
       "       [0.92199181, 0.07800819],\n",
       "       [0.63434817, 0.36565183],\n",
       "       [0.05232465, 0.94767535]])"
      ]
     },
     "execution_count": 83,
     "metadata": {},
     "output_type": "execute_result"
    }
   ],
   "source": [
    "y_proba"
   ]
  },
  {
   "cell_type": "code",
   "execution_count": 84,
   "metadata": {},
   "outputs": [],
   "source": [
    "# Seleccionamos las probabilidades de la clase y=1\n",
    "y_proba_1 = y_proba[:,1]"
   ]
  },
  {
   "cell_type": "code",
   "execution_count": 85,
   "metadata": {},
   "outputs": [
    {
     "data": {
      "image/png": "[encoded data removed]",
      "text/plain": [
       "<Figure size 432x288 with 1 Axes>"
      ]
     },
     "metadata": {
      "needs_background": "light"
     },
     "output_type": "display_data"
    }
   ],
   "source": [
    "# Vemos Histograms de Probabilidades de Clasificación P(y=1) con 15 bins\n",
    "plt.hist(y_proba_1, bins=15)\n",
    "\n",
    "# x-axis de 0 a 1\n",
    "plt.xlim(0,1)\n",
    "plt.title('Histograma de probabilidades estimadas \\n' + nombre_modelo_elegido)\n",
    "plt.xlabel('Probabilidad estimada P(y=1)')\n",
    "plt.ylabel('Frecuencia')\n",
    "plt.savefig('chart10_histograma_proba_umbral_optimo.pdf', bbox_inches='tight', dpi=600)\n",
    "plt.show()"
   ]
  },
  {
   "cell_type": "code",
   "execution_count": 86,
   "metadata": {},
   "outputs": [],
   "source": [
    "# Ahora Vemos las métricas del modelo con el Umbral Óptimo\n",
    "y_pred = binarize(y_proba, umbral_optimo)[:,1]"
   ]
  },
  {
   "cell_type": "code",
   "execution_count": 87,
   "metadata": {},
   "outputs": [
    {
     "name": "stdout",
     "output_type": "stream",
     "text": [
      "              precision    recall  f1-score   support\n",
      "\n",
      "           0       0.93      0.76      0.83       813\n",
      "           1       0.45      0.76      0.56       209\n",
      "\n",
      "   micro avg       0.76      0.76      0.76      1022\n",
      "   macro avg       0.69      0.76      0.70      1022\n",
      "weighted avg       0.83      0.76      0.78      1022\n",
      "\n"
     ]
    }
   ],
   "source": [
    "print(classification_report(y_test,y_pred))"
   ]
  },
  {
   "cell_type": "markdown",
   "metadata": {},
   "source": [
    "Interpretación Classification Report:\n",
    "- Precision = TP/(TP+FP) -> TP/\"Predice Positivo\"         [Para Valor 1]\n",
    "- Precision = TN/(TN+FN) -> TN/\"Predice Negativo\"         [Para Valor 0]\n",
    "\n",
    "\n",
    "- Recall (Sensitivity) = TP/(TP+FN) -> TP/\"Es Positivo\"   [Para Valor 1]\n",
    "- Recall (Sensitivity) = TN/(TN+FP) -> TN/\"Es Negativo\"   [Para Valor 0]\n",
    "\n"
   ]
  },
  {
   "cell_type": "code",
   "execution_count": 88,
   "metadata": {},
   "outputs": [
    {
     "data": {
      "image/png": "[encoded data removed]",
      "text/plain": [
       "<Figure size 432x288 with 2 Axes>"
      ]
     },
     "metadata": {
      "needs_background": "light"
     },
     "output_type": "display_data"
    }
   ],
   "source": [
    "# Elaboramos la matriz de confusión con el umbral óptimo según función de costos\n",
    "confusion_matrix(y_test, y_pred)\n",
    "sns.heatmap(confusion_matrix(y_test, y_pred), annot=True, fmt = 'g')\n",
    "plt.ylabel('Verdaderos')\n",
    "plt.xlabel('Predichos')\n",
    "plt.title('Matriz Confusión Minimizando Función de Costos \\n' + nombre_modelo_elegido)\n",
    "plt.savefig('chart10_matriz_confusion_umbral_optimo.pdf', bbox_inches='tight', dpi=600)\n",
    "plt.show();"
   ]
  },
  {
   "cell_type": "code",
   "execution_count": 89,
   "metadata": {},
   "outputs": [
    {
     "data": {
      "text/plain": [
       "0.7592954990215264"
      ]
     },
     "execution_count": 89,
     "metadata": {},
     "output_type": "execute_result"
    }
   ],
   "source": [
    "accuracy_score(y_test,y_pred)"
   ]
  },
  {
   "cell_type": "markdown",
   "metadata": {},
   "source": [
    "## 7. Graficamos los indicadores para distintos umbrales del modelo seleccionado en 6. (arriba)"
   ]
  },
  {
   "cell_type": "code",
   "execution_count": 90,
   "metadata": {},
   "outputs": [
    {
     "data": {
      "text/plain": [
       "Index(['corrida', 'cost_fn', 'exactitud', 'modelo', 'nombre',\n",
       "       'nueva_mora (FN)', 'precision', 'recall', 'umbral'],\n",
       "      dtype='object')"
      ]
     },
     "execution_count": 90,
     "metadata": {},
     "output_type": "execute_result"
    }
   ],
   "source": [
    "df_testeo.columns"
   ]
  },
  {
   "cell_type": "code",
   "execution_count": 105,
   "metadata": {},
   "outputs": [
    {
     "data": {
      "text/html": [
       "<div>\n",
       "<style scoped>\n",
       "    .dataframe tbody tr th:only-of-type {\n",
       "        vertical-align: middle;\n",
       "    }\n",
       "\n",
       "    .dataframe tbody tr th {\n",
       "        vertical-align: top;\n",
       "    }\n",
       "\n",
       "    .dataframe thead th {\n",
       "        text-align: right;\n",
       "    }\n",
       "</style>\n",
       "<table border=\"1\" class=\"dataframe\">\n",
       "  <thead>\n",
       "    <tr style=\"text-align: right;\">\n",
       "      <th></th>\n",
       "      <th>corrida</th>\n",
       "      <th>cost_fn</th>\n",
       "      <th>exactitud</th>\n",
       "      <th>modelo</th>\n",
       "      <th>nombre</th>\n",
       "      <th>nueva_mora (FN)</th>\n",
       "      <th>precision</th>\n",
       "      <th>recall</th>\n",
       "      <th>umbral</th>\n",
       "    </tr>\n",
       "  </thead>\n",
       "  <tbody>\n",
       "    <tr>\n",
       "      <th>0</th>\n",
       "      <td>0</td>\n",
       "      <td>14.4</td>\n",
       "      <td>76.8</td>\n",
       "      <td>DecisionTreeClassifier(class_weight='balanced'...</td>\n",
       "      <td>Árbol de decisión</td>\n",
       "      <td>11.4</td>\n",
       "      <td>43.4</td>\n",
       "      <td>44.0</td>\n",
       "      <td>0.00</td>\n",
       "    </tr>\n",
       "    <tr>\n",
       "      <th>1</th>\n",
       "      <td>0</td>\n",
       "      <td>14.4</td>\n",
       "      <td>76.8</td>\n",
       "      <td>DecisionTreeClassifier(class_weight='balanced'...</td>\n",
       "      <td>Árbol de decisión</td>\n",
       "      <td>11.4</td>\n",
       "      <td>43.4</td>\n",
       "      <td>44.0</td>\n",
       "      <td>0.05</td>\n",
       "    </tr>\n",
       "    <tr>\n",
       "      <th>2</th>\n",
       "      <td>0</td>\n",
       "      <td>14.4</td>\n",
       "      <td>76.8</td>\n",
       "      <td>DecisionTreeClassifier(class_weight='balanced'...</td>\n",
       "      <td>Árbol de decisión</td>\n",
       "      <td>11.4</td>\n",
       "      <td>43.4</td>\n",
       "      <td>44.0</td>\n",
       "      <td>0.10</td>\n",
       "    </tr>\n",
       "    <tr>\n",
       "      <th>3</th>\n",
       "      <td>0</td>\n",
       "      <td>14.4</td>\n",
       "      <td>76.8</td>\n",
       "      <td>DecisionTreeClassifier(class_weight='balanced'...</td>\n",
       "      <td>Árbol de decisión</td>\n",
       "      <td>11.4</td>\n",
       "      <td>43.4</td>\n",
       "      <td>44.0</td>\n",
       "      <td>0.15</td>\n",
       "    </tr>\n",
       "    <tr>\n",
       "      <th>4</th>\n",
       "      <td>0</td>\n",
       "      <td>14.4</td>\n",
       "      <td>76.8</td>\n",
       "      <td>DecisionTreeClassifier(class_weight='balanced'...</td>\n",
       "      <td>Árbol de decisión</td>\n",
       "      <td>11.4</td>\n",
       "      <td>43.4</td>\n",
       "      <td>44.0</td>\n",
       "      <td>0.20</td>\n",
       "    </tr>\n",
       "  </tbody>\n",
       "</table>\n",
       "</div>"
      ],
      "text/plain": [
       "   corrida  cost_fn  exactitud  \\\n",
       "0        0     14.4       76.8   \n",
       "1        0     14.4       76.8   \n",
       "2        0     14.4       76.8   \n",
       "3        0     14.4       76.8   \n",
       "4        0     14.4       76.8   \n",
       "\n",
       "                                              modelo             nombre  \\\n",
       "0  DecisionTreeClassifier(class_weight='balanced'...  Árbol de decisión   \n",
       "1  DecisionTreeClassifier(class_weight='balanced'...  Árbol de decisión   \n",
       "2  DecisionTreeClassifier(class_weight='balanced'...  Árbol de decisión   \n",
       "3  DecisionTreeClassifier(class_weight='balanced'...  Árbol de decisión   \n",
       "4  DecisionTreeClassifier(class_weight='balanced'...  Árbol de decisión   \n",
       "\n",
       "   nueva_mora (FN)  precision  recall  umbral  \n",
       "0             11.4       43.4    44.0    0.00  \n",
       "1             11.4       43.4    44.0    0.05  \n",
       "2             11.4       43.4    44.0    0.10  \n",
       "3             11.4       43.4    44.0    0.15  \n",
       "4             11.4       43.4    44.0    0.20  "
      ]
     },
     "execution_count": 105,
     "metadata": {},
     "output_type": "execute_result"
    }
   ],
   "source": [
    "df_testeo.head()"
   ]
  },
  {
   "cell_type": "code",
   "execution_count": 92,
   "metadata": {},
   "outputs": [
    {
     "data": {
      "text/plain": [
       "11"
      ]
     },
     "execution_count": 92,
     "metadata": {},
     "output_type": "execute_result"
    }
   ],
   "source": [
    "mascara = df_testeo['corrida'] == corrida_modelo_elegido\n",
    "mascara.sum()"
   ]
  },
  {
   "cell_type": "code",
   "execution_count": 93,
   "metadata": {},
   "outputs": [
    {
     "data": {
      "image/png": "[encoded data removed]",
      "text/plain": [
       "<Figure size 576x432 with 1 Axes>"
      ]
     },
     "metadata": {
      "needs_background": "light"
     },
     "output_type": "display_data"
    }
   ],
   "source": [
    "# Evaluamos el gráfico de los indicadores de clasificación vs probabilidad clasificar y=1\n",
    "\n",
    "plt.figure(figsize=(8, 6))\n",
    "\n",
    "plt.plot(df_testeo.loc[mascara, 'umbral'], df_testeo.loc[mascara, 'exactitud'], \\\n",
    "            label = 'exactitud')\n",
    "           \n",
    "plt.plot(df_testeo.loc[mascara, 'umbral'], df_testeo.loc[mascara, 'cost_fn'], \\\n",
    "            label = 'cost_fn')\n",
    "           \n",
    "plt.plot(df_testeo.loc[mascara, 'umbral'], df_testeo.loc[mascara, 'nueva_mora (FN)'], \\\n",
    "            label = 'nueva_mora (FN)')\n",
    "           \n",
    "plt.plot(df_testeo.loc[mascara, 'umbral'], df_testeo.loc[mascara, 'precision'], \\\n",
    "            label = 'precision')\n",
    "           \n",
    "plt.plot(df_testeo.loc[mascara, 'umbral'], df_testeo.loc[mascara, 'recall'], \\\n",
    "            label = 'recall')\n",
    "\n",
    "plt.plot([umbral_optimo, umbral_optimo], [0,100], 'k--')\n",
    "\n",
    "\n",
    "plt.xlabel('Umbral Probabilidad Clasificar (y=1=mora)')\n",
    "plt.ylabel('%')\n",
    "plt.ylim(0, 120)\n",
    "plt.legend(loc = 0)\n",
    "plt.title('Clasificación datos Prueba\\n' + 'Modelo: '+ nombre_modelo_elegido)\n",
    "plt.savefig('chart10_grafico_clasificacion.pdf', bbox_inches='tight', dpi=600)\n",
    "plt.show();"
   ]
  },
  {
   "cell_type": "markdown",
   "metadata": {},
   "source": [
    "## 8a. Generamos un resumen del desempeño de los distintos modelos maximizando Exactidud (Accuracy)"
   ]
  },
  {
   "cell_type": "code",
   "execution_count": 94,
   "metadata": {},
   "outputs": [],
   "source": [
    "index_list = []\n",
    "for i in np.arange(0, df_testeo['corrida'].max()+1):\n",
    "    #print (i)\n",
    "    df_temp = df_testeo.loc[df_testeo['corrida'] == i,:]\n",
    "    index_list.append(df_temp.loc[df_temp['exactitud'] == \\\n",
    "                                  df_temp['exactitud'].max(),:].index[0])\n",
    "    "
   ]
  },
  {
   "cell_type": "code",
   "execution_count": 95,
   "metadata": {},
   "outputs": [
    {
     "data": {
      "text/html": [
       "<div>\n",
       "<style scoped>\n",
       "    .dataframe tbody tr th:only-of-type {\n",
       "        vertical-align: middle;\n",
       "    }\n",
       "\n",
       "    .dataframe tbody tr th {\n",
       "        vertical-align: top;\n",
       "    }\n",
       "\n",
       "    .dataframe thead th {\n",
       "        text-align: right;\n",
       "    }\n",
       "</style>\n",
       "<table border=\"1\" class=\"dataframe\">\n",
       "  <thead>\n",
       "    <tr style=\"text-align: right;\">\n",
       "      <th></th>\n",
       "      <th>nombre</th>\n",
       "      <th>exactitud</th>\n",
       "      <th>cost_fn</th>\n",
       "      <th>recall</th>\n",
       "      <th>precision</th>\n",
       "      <th>nueva_mora (FN)</th>\n",
       "      <th>umbral</th>\n",
       "    </tr>\n",
       "    <tr>\n",
       "      <th>corrida</th>\n",
       "      <th></th>\n",
       "      <th></th>\n",
       "      <th></th>\n",
       "      <th></th>\n",
       "      <th></th>\n",
       "      <th></th>\n",
       "      <th></th>\n",
       "    </tr>\n",
       "  </thead>\n",
       "  <tbody>\n",
       "    <tr>\n",
       "      <th>0</th>\n",
       "      <td>Árbol de decisión</td>\n",
       "      <td>76.8</td>\n",
       "      <td>14.4</td>\n",
       "      <td>44.0</td>\n",
       "      <td>43.4</td>\n",
       "      <td>11.4</td>\n",
       "      <td>0.00</td>\n",
       "    </tr>\n",
       "    <tr>\n",
       "      <th>1</th>\n",
       "      <td>Bagging AD</td>\n",
       "      <td>81.4</td>\n",
       "      <td>13.2</td>\n",
       "      <td>44.0</td>\n",
       "      <td>55.8</td>\n",
       "      <td>11.4</td>\n",
       "      <td>0.40</td>\n",
       "    </tr>\n",
       "    <tr>\n",
       "      <th>2</th>\n",
       "      <td>Random Forest</td>\n",
       "      <td>82.0</td>\n",
       "      <td>16.2</td>\n",
       "      <td>23.9</td>\n",
       "      <td>66.7</td>\n",
       "      <td>15.6</td>\n",
       "      <td>0.50</td>\n",
       "    </tr>\n",
       "    <tr>\n",
       "      <th>3</th>\n",
       "      <td>Random Forest Grid Search</td>\n",
       "      <td>83.2</td>\n",
       "      <td>14.8</td>\n",
       "      <td>31.1</td>\n",
       "      <td>69.9</td>\n",
       "      <td>14.1</td>\n",
       "      <td>0.50</td>\n",
       "    </tr>\n",
       "    <tr>\n",
       "      <th>4</th>\n",
       "      <td>Extra Trees</td>\n",
       "      <td>82.2</td>\n",
       "      <td>13.0</td>\n",
       "      <td>44.0</td>\n",
       "      <td>58.6</td>\n",
       "      <td>11.4</td>\n",
       "      <td>0.40</td>\n",
       "    </tr>\n",
       "    <tr>\n",
       "      <th>5</th>\n",
       "      <td>AdaBoostClassifier Random Search</td>\n",
       "      <td>81.8</td>\n",
       "      <td>15.0</td>\n",
       "      <td>31.6</td>\n",
       "      <td>60.6</td>\n",
       "      <td>14.0</td>\n",
       "      <td>0.50</td>\n",
       "    </tr>\n",
       "    <tr>\n",
       "      <th>6</th>\n",
       "      <td>GradientBoostingClassifier</td>\n",
       "      <td>82.2</td>\n",
       "      <td>16.4</td>\n",
       "      <td>22.0</td>\n",
       "      <td>70.8</td>\n",
       "      <td>15.9</td>\n",
       "      <td>0.50</td>\n",
       "    </tr>\n",
       "    <tr>\n",
       "      <th>7</th>\n",
       "      <td>GradientBoostingClassifier Grid Search</td>\n",
       "      <td>83.7</td>\n",
       "      <td>13.0</td>\n",
       "      <td>41.6</td>\n",
       "      <td>65.9</td>\n",
       "      <td>11.9</td>\n",
       "      <td>0.50</td>\n",
       "    </tr>\n",
       "    <tr>\n",
       "      <th>8</th>\n",
       "      <td>CatBoostClassifier Random Search</td>\n",
       "      <td>83.4</td>\n",
       "      <td>13.8</td>\n",
       "      <td>37.3</td>\n",
       "      <td>66.7</td>\n",
       "      <td>12.8</td>\n",
       "      <td>0.45</td>\n",
       "    </tr>\n",
       "  </tbody>\n",
       "</table>\n",
       "</div>"
      ],
      "text/plain": [
       "                                         nombre  exactitud  cost_fn  recall  \\\n",
       "corrida                                                                       \n",
       "0                             Árbol de decisión       76.8     14.4    44.0   \n",
       "1                                    Bagging AD       81.4     13.2    44.0   \n",
       "2                                 Random Forest       82.0     16.2    23.9   \n",
       "3                     Random Forest Grid Search       83.2     14.8    31.1   \n",
       "4                                   Extra Trees       82.2     13.0    44.0   \n",
       "5              AdaBoostClassifier Random Search       81.8     15.0    31.6   \n",
       "6                    GradientBoostingClassifier       82.2     16.4    22.0   \n",
       "7        GradientBoostingClassifier Grid Search       83.7     13.0    41.6   \n",
       "8              CatBoostClassifier Random Search       83.4     13.8    37.3   \n",
       "\n",
       "         precision  nueva_mora (FN)  umbral  \n",
       "corrida                                      \n",
       "0             43.4             11.4    0.00  \n",
       "1             55.8             11.4    0.40  \n",
       "2             66.7             15.6    0.50  \n",
       "3             69.9             14.1    0.50  \n",
       "4             58.6             11.4    0.40  \n",
       "5             60.6             14.0    0.50  \n",
       "6             70.8             15.9    0.50  \n",
       "7             65.9             11.9    0.50  \n",
       "8             66.7             12.8    0.45  "
      ]
     },
     "execution_count": 95,
     "metadata": {},
     "output_type": "execute_result"
    }
   ],
   "source": [
    "df_resumen = df_testeo.loc[index_list, :]\n",
    "df_resumen.index = df_resumen['corrida']\n",
    "df_resumen = df_resumen[['nombre', 'exactitud', 'cost_fn', 'recall', 'precision',\n",
    "                           'nueva_mora (FN)', 'umbral']]\n",
    "df_resumen"
   ]
  },
  {
   "cell_type": "markdown",
   "metadata": {},
   "source": [
    "## 8b. Generamos un resumen del desempeño de los distintos modelos minimizando la Función de Costos"
   ]
  },
  {
   "cell_type": "code",
   "execution_count": 96,
   "metadata": {},
   "outputs": [],
   "source": [
    "index_list = []\n",
    "for i in np.arange(0, df_testeo['corrida'].max()+1):\n",
    "    #print (i)\n",
    "    df_temp = df_testeo.loc[df_testeo['corrida'] == i,:]\n",
    "    index_list.append(df_temp.loc[df_temp['cost_fn'] == \\\n",
    "                                  df_temp['cost_fn'].min(),:].index[0])\n",
    "    "
   ]
  },
  {
   "cell_type": "code",
   "execution_count": 97,
   "metadata": {},
   "outputs": [
    {
     "data": {
      "text/html": [
       "<div>\n",
       "<style scoped>\n",
       "    .dataframe tbody tr th:only-of-type {\n",
       "        vertical-align: middle;\n",
       "    }\n",
       "\n",
       "    .dataframe tbody tr th {\n",
       "        vertical-align: top;\n",
       "    }\n",
       "\n",
       "    .dataframe thead th {\n",
       "        text-align: right;\n",
       "    }\n",
       "</style>\n",
       "<table border=\"1\" class=\"dataframe\">\n",
       "  <thead>\n",
       "    <tr style=\"text-align: right;\">\n",
       "      <th></th>\n",
       "      <th>nombre</th>\n",
       "      <th>exactitud</th>\n",
       "      <th>cost_fn</th>\n",
       "      <th>recall</th>\n",
       "      <th>precision</th>\n",
       "      <th>nueva_mora (FN)</th>\n",
       "      <th>umbral</th>\n",
       "    </tr>\n",
       "    <tr>\n",
       "      <th>corrida</th>\n",
       "      <th></th>\n",
       "      <th></th>\n",
       "      <th></th>\n",
       "      <th></th>\n",
       "      <th></th>\n",
       "      <th></th>\n",
       "      <th></th>\n",
       "    </tr>\n",
       "  </thead>\n",
       "  <tbody>\n",
       "    <tr>\n",
       "      <th>0</th>\n",
       "      <td>Árbol de decisión</td>\n",
       "      <td>76.8</td>\n",
       "      <td>14.4</td>\n",
       "      <td>44.0</td>\n",
       "      <td>43.4</td>\n",
       "      <td>11.4</td>\n",
       "      <td>0.00</td>\n",
       "    </tr>\n",
       "    <tr>\n",
       "      <th>1</th>\n",
       "      <td>Bagging AD</td>\n",
       "      <td>73.4</td>\n",
       "      <td>11.8</td>\n",
       "      <td>66.5</td>\n",
       "      <td>40.8</td>\n",
       "      <td>6.8</td>\n",
       "      <td>0.20</td>\n",
       "    </tr>\n",
       "    <tr>\n",
       "      <th>2</th>\n",
       "      <td>Random Forest</td>\n",
       "      <td>66.8</td>\n",
       "      <td>12.0</td>\n",
       "      <td>75.6</td>\n",
       "      <td>35.4</td>\n",
       "      <td>5.0</td>\n",
       "      <td>0.10</td>\n",
       "    </tr>\n",
       "    <tr>\n",
       "      <th>3</th>\n",
       "      <td>Random Forest Grid Search</td>\n",
       "      <td>79.4</td>\n",
       "      <td>9.9</td>\n",
       "      <td>68.9</td>\n",
       "      <td>49.7</td>\n",
       "      <td>6.4</td>\n",
       "      <td>0.25</td>\n",
       "    </tr>\n",
       "    <tr>\n",
       "      <th>4</th>\n",
       "      <td>Extra Trees</td>\n",
       "      <td>79.1</td>\n",
       "      <td>10.4</td>\n",
       "      <td>66.0</td>\n",
       "      <td>49.1</td>\n",
       "      <td>6.9</td>\n",
       "      <td>0.20</td>\n",
       "    </tr>\n",
       "    <tr>\n",
       "      <th>5</th>\n",
       "      <td>AdaBoostClassifier Random Search</td>\n",
       "      <td>81.8</td>\n",
       "      <td>15.0</td>\n",
       "      <td>31.6</td>\n",
       "      <td>60.6</td>\n",
       "      <td>14.0</td>\n",
       "      <td>0.50</td>\n",
       "    </tr>\n",
       "    <tr>\n",
       "      <th>6</th>\n",
       "      <td>GradientBoostingClassifier</td>\n",
       "      <td>75.9</td>\n",
       "      <td>10.5</td>\n",
       "      <td>70.8</td>\n",
       "      <td>44.4</td>\n",
       "      <td>6.0</td>\n",
       "      <td>0.20</td>\n",
       "    </tr>\n",
       "    <tr>\n",
       "      <th>7</th>\n",
       "      <td>GradientBoostingClassifier Grid Search</td>\n",
       "      <td>75.9</td>\n",
       "      <td>9.7</td>\n",
       "      <td>76.1</td>\n",
       "      <td>44.8</td>\n",
       "      <td>4.9</td>\n",
       "      <td>0.10</td>\n",
       "    </tr>\n",
       "    <tr>\n",
       "      <th>8</th>\n",
       "      <td>CatBoostClassifier Random Search</td>\n",
       "      <td>70.9</td>\n",
       "      <td>10.5</td>\n",
       "      <td>78.5</td>\n",
       "      <td>39.4</td>\n",
       "      <td>4.4</td>\n",
       "      <td>0.15</td>\n",
       "    </tr>\n",
       "  </tbody>\n",
       "</table>\n",
       "</div>"
      ],
      "text/plain": [
       "                                         nombre  exactitud  cost_fn  recall  \\\n",
       "corrida                                                                       \n",
       "0                             Árbol de decisión       76.8     14.4    44.0   \n",
       "1                                    Bagging AD       73.4     11.8    66.5   \n",
       "2                                 Random Forest       66.8     12.0    75.6   \n",
       "3                     Random Forest Grid Search       79.4      9.9    68.9   \n",
       "4                                   Extra Trees       79.1     10.4    66.0   \n",
       "5              AdaBoostClassifier Random Search       81.8     15.0    31.6   \n",
       "6                    GradientBoostingClassifier       75.9     10.5    70.8   \n",
       "7        GradientBoostingClassifier Grid Search       75.9      9.7    76.1   \n",
       "8              CatBoostClassifier Random Search       70.9     10.5    78.5   \n",
       "\n",
       "         precision  nueva_mora (FN)  umbral  \n",
       "corrida                                      \n",
       "0             43.4             11.4    0.00  \n",
       "1             40.8              6.8    0.20  \n",
       "2             35.4              5.0    0.10  \n",
       "3             49.7              6.4    0.25  \n",
       "4             49.1              6.9    0.20  \n",
       "5             60.6             14.0    0.50  \n",
       "6             44.4              6.0    0.20  \n",
       "7             44.8              4.9    0.10  \n",
       "8             39.4              4.4    0.15  "
      ]
     },
     "execution_count": 97,
     "metadata": {},
     "output_type": "execute_result"
    }
   ],
   "source": [
    "df_resumen = df_testeo.loc[index_list, :]\n",
    "df_resumen.index = df_resumen['corrida']\n",
    "df_resumen = df_resumen[['nombre', 'exactitud', 'cost_fn', 'recall', 'precision',\n",
    "                           'nueva_mora (FN)', 'umbral']]\n",
    "df_resumen"
   ]
  },
  {
   "cell_type": "markdown",
   "metadata": {},
   "source": [
    "## 9a. Evaluamos la Importancia de las principales \"Features\" (Versión Sklearn)"
   ]
  },
  {
   "cell_type": "code",
   "execution_count": 98,
   "metadata": {},
   "outputs": [],
   "source": [
    "importancias = modelo_elegido.feature_importances_"
   ]
  },
  {
   "cell_type": "code",
   "execution_count": 99,
   "metadata": {},
   "outputs": [
    {
     "data": {
      "text/plain": [
       "array([DecisionTreeRegressor(criterion='friedman_mse', max_depth=6,\n",
       "           max_features=None, max_leaf_nodes=None,\n",
       "           min_impurity_decrease=0.0, min_impurity_split=None,\n",
       "           min_samples_leaf=1, min_samples_split=2,\n",
       "           min_weight_fraction_leaf=0.0, presort='auto',\n",
       "           random_state=<mtrand.RandomState object at 0x10861cd80>,\n",
       "           splitter='best')], dtype=object)"
      ]
     },
     "execution_count": 99,
     "metadata": {},
     "output_type": "execute_result"
    }
   ],
   "source": [
    "#modelo_elegido.estimators_[0][0]\n",
    "modelo_elegido.estimators_[0]"
   ]
  },
  {
   "cell_type": "code",
   "execution_count": 100,
   "metadata": {},
   "outputs": [],
   "source": [
    "# Calculamos la desviación estándar de la importacia de los features haciendo un bucle sobre los árboles en el random forest\n",
    "#std = np.std([tree.feature_importances_ for tree in modelo_elegido.estimators_], axis=0)"
   ]
  },
  {
   "cell_type": "code",
   "execution_count": 101,
   "metadata": {},
   "outputs": [
    {
     "data": {
      "image/png": "[encoded data removed]",
      "text/plain": [
       "<Figure size 720x576 with 1 Axes>"
      ]
     },
     "metadata": {
      "needs_background": "light"
     },
     "output_type": "display_data"
    }
   ],
   "source": [
    "features_limit = 30\n",
    "#indices = np.argsort(importancias)\n",
    "indices = np.argsort(importancias)[::-1]\n",
    "indices = indices[0:features_limit]\n",
    "indices = indices[::-1]\n",
    "nombres_features = X.columns\n",
    "\n",
    "# Graficar la importancia de los features en el modelo elegido\n",
    "plt.figure(figsize=(10, 8))\n",
    "plt.title(\"Importancia de los features en \" + nombre_modelo_elegido)\n",
    "plt.barh(range(features_limit), importancias[indices], \n",
    "       color=\"r\", align=\"center\") #yerr=std[indices],\n",
    "plt.yticks(range(features_limit), nombres_features[indices])\n",
    "plt.savefig('chart12_feature_importance.pdf', bbox_inches='tight', dpi=600)\n",
    "plt.show();"
   ]
  },
  {
   "cell_type": "markdown",
   "metadata": {},
   "source": [
    "## 9b. Evaluamos la Importancia de las principales \"Features\" (Versión CatBoost"
   ]
  },
  {
   "cell_type": "code",
   "execution_count": 102,
   "metadata": {},
   "outputs": [],
   "source": [
    "importancias = modelo_elegido.feature_importances_"
   ]
  },
  {
   "cell_type": "code",
   "execution_count": 103,
   "metadata": {},
   "outputs": [
    {
     "data": {
      "image/png": "[encoded data removed]",
      "text/plain": [
       "<Figure size 1440x720 with 1 Axes>"
      ]
     },
     "metadata": {
      "needs_background": "light"
     },
     "output_type": "display_data"
    }
   ],
   "source": [
    "fea_imp = pd.DataFrame({'imp': importancias, 'col': X_test.columns})\n",
    "fea_imp = fea_imp.sort_values(['imp', 'col'], ascending=[True, False]).iloc[-30:]\n",
    "_ = fea_imp.plot(kind='barh', x='col', y='imp', figsize=(20, 10))\n",
    "plt.savefig('catboost_feature_importance.png') "
   ]
  },
  {
   "cell_type": "code",
   "execution_count": null,
   "metadata": {},
   "outputs": [],
   "source": []
  }
 ],
 "metadata": {
  "colab": {
   "collapsed_sections": [],
   "name": "1.PRACTICA_GUIADA_RandomForest_ExtraTrees..ipynb",
   "provenance": [],
   "version": "0.3.2"
  },
  "kernelspec": {
   "display_name": "Python 3",
   "language": "python",
   "name": "python3"
  },
  "language_info": {
   "codemirror_mode": {
    "name": "ipython",
    "version": 3
   },
   "file_extension": ".py",
   "mimetype": "text/x-python",
   "name": "python",
   "nbconvert_exporter": "python",
   "pygments_lexer": "ipython3",
   "version": "3.6.6"
  }
 },
 "nbformat": 4,
 "nbformat_minor": 1
}
